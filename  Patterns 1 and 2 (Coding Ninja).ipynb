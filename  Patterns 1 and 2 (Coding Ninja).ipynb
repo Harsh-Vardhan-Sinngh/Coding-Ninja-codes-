{
 "cells": [
  {
   "cell_type": "markdown",
   "id": "60b56d51",
   "metadata": {},
   "source": [
    "### Introduction of Patterns"
   ]
  },
  {
   "cell_type": "markdown",
   "id": "52d6bc75",
   "metadata": {},
   "source": [
    "# ****\n",
    "# ****\n",
    "# ****\n",
    "# ****"
   ]
  },
  {
   "cell_type": "code",
   "execution_count": 1,
   "id": "9f69c0d6",
   "metadata": {},
   "outputs": [
    {
     "name": "stdout",
     "output_type": "stream",
     "text": [
      "4\n",
      "****\n",
      "****\n",
      "****\n",
      "****\n"
     ]
    }
   ],
   "source": [
    "n=int(input())\n",
    "i = 1\n",
    "while i<=n:\n",
    "    j=1\n",
    "    while j<=n:\n",
    "        # print jTh column\n",
    "        print(\"*\",end=\"\")\n",
    "        j=j+1\n",
    "    print()\n",
    "    i=i+1"
   ]
  },
  {
   "cell_type": "markdown",
   "id": "3c67135c",
   "metadata": {},
   "source": [
    "# 4444\n",
    "# 4444\n",
    "# 4444\n",
    "# 4444"
   ]
  },
  {
   "cell_type": "code",
   "execution_count": 7,
   "id": "c5158a31",
   "metadata": {},
   "outputs": [
    {
     "name": "stdout",
     "output_type": "stream",
     "text": [
      "5\n",
      "55555\n",
      "55555\n",
      "55555\n",
      "55555\n",
      "55555\n"
     ]
    }
   ],
   "source": [
    "n=int(input())\n",
    "i=1\n",
    "while i<=n:\n",
    "    j=1\n",
    "    while j<=n:\n",
    "        print(n,end=\"\")\n",
    "        j=j+1\n",
    "    print()\n",
    "    i=i+1"
   ]
  },
  {
   "cell_type": "markdown",
   "id": "796328dd",
   "metadata": {},
   "source": [
    "### Square Patterns"
   ]
  },
  {
   "cell_type": "markdown",
   "id": "c4119242",
   "metadata": {},
   "source": [
    "# 1111\n",
    "# 2222\n",
    "# 3333\n",
    "# 4444"
   ]
  },
  {
   "cell_type": "code",
   "execution_count": 9,
   "id": "266b2013",
   "metadata": {},
   "outputs": [
    {
     "name": "stdout",
     "output_type": "stream",
     "text": [
      "10\n",
      "1111111111\n",
      "2222222222\n",
      "3333333333\n",
      "4444444444\n",
      "5555555555\n",
      "6666666666\n",
      "7777777777\n",
      "8888888888\n",
      "9999999999\n",
      "10101010101010101010\n"
     ]
    }
   ],
   "source": [
    "n=int(input())\n",
    "i=1\n",
    "while i<=n:\n",
    "    j=1\n",
    "    while j<=n:\n",
    "        print(i,end=\"\")\n",
    "        j=j+1\n",
    "    print()\n",
    "    i=i+1\n"
   ]
  },
  {
   "cell_type": "markdown",
   "id": "b7166b67",
   "metadata": {},
   "source": [
    "# 1234\n",
    "# 1234\n",
    "# 1234\n",
    "# 1234\n"
   ]
  },
  {
   "cell_type": "code",
   "execution_count": 11,
   "id": "126fba69",
   "metadata": {},
   "outputs": [
    {
     "name": "stdout",
     "output_type": "stream",
     "text": [
      "7\n",
      "1234567\n",
      "1234567\n",
      "1234567\n",
      "1234567\n",
      "1234567\n",
      "1234567\n",
      "1234567\n"
     ]
    }
   ],
   "source": [
    "n=int(input())\n",
    "i=1\n",
    "while i<=n:\n",
    "    j=1\n",
    "    while j<=n:\n",
    "        print(j,end=\"\")\n",
    "        j=j+1\n",
    "    print()\n",
    "    i=i+1\n",
    "    "
   ]
  },
  {
   "cell_type": "markdown",
   "id": "8e34a241",
   "metadata": {},
   "source": [
    "# 4321\n",
    "# 4321\n",
    "# 4321\n",
    "# 4321"
   ]
  },
  {
   "cell_type": "code",
   "execution_count": 15,
   "id": "908dffaa",
   "metadata": {},
   "outputs": [
    {
     "name": "stdout",
     "output_type": "stream",
     "text": [
      "3\n",
      "321\n",
      "321\n",
      "321\n"
     ]
    }
   ],
   "source": [
    "n=int(input())\n",
    "i=1\n",
    "while i<=n:\n",
    "    j=1\n",
    "    p=n\n",
    "    while j<=n:\n",
    "        print(p,end=\"\")\n",
    "        j=j+1\n",
    "        p=p-1\n",
    "    print() \n",
    "    i=i+1"
   ]
  },
  {
   "cell_type": "markdown",
   "id": "b013a5f0",
   "metadata": {},
   "source": [
    "### Triangular Star Patterns"
   ]
  },
  {
   "cell_type": "markdown",
   "id": "f424340b",
   "metadata": {},
   "source": [
    "# 1\n",
    "# 12\n",
    "# 123\n",
    "# 1234"
   ]
  },
  {
   "cell_type": "code",
   "execution_count": 16,
   "id": "99d2a5a8",
   "metadata": {},
   "outputs": [
    {
     "name": "stdout",
     "output_type": "stream",
     "text": [
      "5\n",
      "1\n",
      "12\n",
      "123\n",
      "1234\n",
      "12345\n"
     ]
    }
   ],
   "source": [
    "n= int(input())\n",
    "i=1\n",
    "while i<=n:\n",
    "    j=1\n",
    "    while j<=i:\n",
    "        print(j,end=\"\")\n",
    "        j=j+1\n",
    "    print()\n",
    "    i=i+1\n",
    "        "
   ]
  },
  {
   "cell_type": "markdown",
   "id": "9f6bdaf8",
   "metadata": {},
   "source": [
    "# 1\n",
    "# 23\n",
    "# 345\n",
    "# 4567"
   ]
  },
  {
   "cell_type": "code",
   "execution_count": 1,
   "id": "0016650c",
   "metadata": {},
   "outputs": [
    {
     "name": "stdout",
     "output_type": "stream",
     "text": [
      "4\n",
      "1\n",
      "23\n",
      "345\n",
      "4567\n"
     ]
    }
   ],
   "source": [
    "n = int(input())\n",
    "i = 1\n",
    "while i<=n:\n",
    "    j=1\n",
    "    p=i\n",
    "    while j<=i:\n",
    "        print(p,end=\"\")\n",
    "        j=j+1\n",
    "        p=p+1\n",
    "    print()\n",
    "    i=i+1"
   ]
  },
  {
   "cell_type": "markdown",
   "id": "475cac49",
   "metadata": {},
   "source": [
    "# 1\n",
    "# 23\n",
    "# 456\n",
    "# 78910"
   ]
  },
  {
   "cell_type": "code",
   "execution_count": 5,
   "id": "17958a44",
   "metadata": {},
   "outputs": [
    {
     "name": "stdout",
     "output_type": "stream",
     "text": [
      "4\n",
      "1\n",
      "23\n",
      "456\n",
      "78910\n"
     ]
    }
   ],
   "source": [
    "n = int(input())\n",
    "i = 1\n",
    "p=1\n",
    "while i<=n:\n",
    "    j=1\n",
    "    while j<=i:\n",
    "        print(p,end=\"\")\n",
    "        p=p+1\n",
    "        j=j+1\n",
    "       \n",
    "    print()\n",
    "    i=i+1\n",
    "    "
   ]
  },
  {
   "cell_type": "markdown",
   "id": "6f16612b",
   "metadata": {},
   "source": [
    "### Character Patterns\n"
   ]
  },
  {
   "cell_type": "markdown",
   "id": "4d3bfc63",
   "metadata": {},
   "source": [
    "# ABCD\n",
    "# ABCD\n",
    "# ABCD\n",
    "# ABCD"
   ]
  },
  {
   "cell_type": "code",
   "execution_count": 11,
   "id": "57ae5042",
   "metadata": {},
   "outputs": [
    {
     "name": "stdout",
     "output_type": "stream",
     "text": [
      "55\n"
     ]
    },
    {
     "data": {
      "text/plain": [
       "'x'"
      ]
     },
     "execution_count": 11,
     "metadata": {},
     "output_type": "execute_result"
    }
   ],
   "source": [
    "k = int(input())\n",
    "x=ord(\"A\")\n",
    "asciiTarget=x+k\n",
    "targetchar=chr(asciiTarget)\n",
    "targetchar"
   ]
  },
  {
   "cell_type": "code",
   "execution_count": 6,
   "id": "13da313c",
   "metadata": {},
   "outputs": [
    {
     "name": "stdout",
     "output_type": "stream",
     "text": [
      "4\n",
      "1111\n",
      "000\n",
      "11\n",
      "0\n"
     ]
    }
   ],
   "source": [
    "n= int(input())\n",
    "i=1\n",
    "while i<=n:\n",
    "    #if i==1:\n",
    "     #   c=-i+n+1\n",
    "      #  j=1\n",
    "       # while j<=c:\n",
    "        #    print(1,end=\"\")\n",
    "         #   j=j+1\n",
    "    if i%2==0:\n",
    "        c1=-i+n+1\n",
    "        j1=1\n",
    "        while j1<=c1:\n",
    "            print(0,end=\"\")\n",
    "            j1=j1+1\n",
    "    if i%2==1:\n",
    "        c2=-i+n+1\n",
    "        j2=1\n",
    "        while j2<=c2:\n",
    "            print(1,end=\"\")\n",
    "            j2=j2+1\n",
    "    print()\n",
    "    i=i+1    \n"
   ]
  },
  {
   "cell_type": "markdown",
   "id": "8aff409f",
   "metadata": {},
   "source": [
    "# 123456\n",
    "  # 23456\n",
    "    # 3456\n",
    "      # 456\n",
    "        # 56\n",
    "          # 6\n",
    "        # 56\n",
    "      # 456\n",
    "    # 3456\n",
    "  # 23456\n",
    "# 123456"
   ]
  },
  {
   "cell_type": "code",
   "execution_count": 55,
   "id": "d39b3f7e",
   "metadata": {},
   "outputs": [
    {
     "name": "stdout",
     "output_type": "stream",
     "text": [
      "4\n",
      "1234\n",
      " 234\n",
      "  34\n",
      "   4\n",
      "  34\n",
      " 234\n",
      "1234\n"
     ]
    }
   ],
   "source": [
    "n= int(input())\n",
    "i=1\n",
    "while i<=(2*n-1):\n",
    "    if (1<=i<=n):# for upper part\n",
    "        sp=i-1 # how many number need to print space  \n",
    "        while sp>=1: # for printing space\n",
    "            print(\" \",end=\"\")\n",
    "            sp=sp-1\n",
    "        num=-i+(n+1) # how many number need to print number \n",
    "        j=1\n",
    "        p=i # what to print\n",
    "        while j<=num: # for printing numbers\n",
    "            print(p,end=\"\")\n",
    "            j=j+1\n",
    "            p=p+1\n",
    "    if (n<i<=(2*n-1)): # for lower part \n",
    "        sp1 =-i+(2*n-1)# how many number need to print space\n",
    "        j1=1\n",
    "        while j1<=sp1: # for printing space\n",
    "            print(\" \",end=\"\")\n",
    "            j1=j1+1\n",
    "        num1=i-(n-1) # how many number need to print number \n",
    "        j2=1 \n",
    "        pr=-i+2*n # what to print\n",
    "        while j2<=num1: # for printing numbers\n",
    "            \n",
    "            print(pr,end=\"\")\n",
    "            j2=j2+1\n",
    "            pr=pr+1\n",
    "    print()\n",
    "    i=i+1"
   ]
  },
  {
   "cell_type": "code",
   "execution_count": 32,
   "id": "8983d362",
   "metadata": {},
   "outputs": [
    {
     "name": "stdout",
     "output_type": "stream",
     "text": [
      "4\n",
      "4444444\n",
      "4333334\n",
      "4322234\n",
      "4321234\n"
     ]
    }
   ],
   "source": [
    "n=int(input())\n",
    "i=1\n",
    "while i<=n:\n",
    "            j=1\n",
    "            n1=i\n",
    "            p=n\n",
    "            while j<=n1:\n",
    "                print(p,end=\"\")\n",
    "                p=p-1\n",
    "                j=j+1\n",
    "            j2=1\n",
    "            n2=-2*i+2*n-1\n",
    "            p=-i+(n+1)\n",
    "            while j2<=n2:\n",
    "                print(p,end=\"\")\n",
    "                j2=j2+1\n",
    "            j3=1\n",
    "            o=n\n",
    "            n3=i\n",
    "            p=-i+(n+1)\n",
    "            while j3<=n3:\n",
    "                if p==1:\n",
    "                    p=p+1\n",
    "                    continue\n",
    "                if p==o+1:\n",
    "                    break\n",
    "\n",
    "                print(p,end=\"\")\n",
    "\n",
    "                p=p+1\n",
    "                j3=j3+1\n",
    "            print()\n",
    "            i=i+1"
   ]
  },
  {
   "cell_type": "code",
   "execution_count": 54,
   "id": "a3847592",
   "metadata": {},
   "outputs": [
    {
     "name": "stdout",
     "output_type": "stream",
     "text": [
      "4\n",
      "4444444\n",
      "4333334\n",
      "4322234\n",
      "4321234\n",
      "4322234\n",
      "4333334\n",
      "4444444\n"
     ]
    }
   ],
   "source": [
    "n=int(input())\n",
    "i=1\n",
    "while i<=2*n-1:\n",
    "     if(1<=i<=n):# for upper half part\n",
    "            j=1\n",
    "            n1=i # how many number to print\n",
    "            p=n  # what to print\n",
    "            while j<=n1: # for first part\n",
    "                print(p,end=\"\")\n",
    "                p=p-1\n",
    "                j=j+1\n",
    "            j2=1\n",
    "            n2=-2*i+2*n-1 # how many number to print\n",
    "            p=-i+(n+1) # what to print\n",
    "            while j2<=n2:# for middle part\n",
    "                print(p,end=\"\")\n",
    "                j2=j2+1\n",
    "            j3=1\n",
    "            o=n\n",
    "            n3=i # how many number to print\n",
    "            p=-i+(n+1) # what to print\n",
    "            while j3<=n3:# for the last part\n",
    "                if p==1: # for preventing and repeating 1.and increas 1 loop\n",
    "                    p=p+1\n",
    "                    continue\n",
    "                if p==o+1:# for break the loop to prevent overflow of p then n.\n",
    "                    break\n",
    "\n",
    "                print(p,end=\"\")\n",
    "\n",
    "                p=p+1\n",
    "                j3=j3+1\n",
    "            \n",
    "     if(n<i<=(2*n-1)): #  for lower half part\n",
    "            \n",
    "                n3=-i+2*n # how many number to print\n",
    "                j=1\n",
    "                p=n # what to print\n",
    "                while j<=n3:# for first part\n",
    "                    print(p,end=\"\")\n",
    "                    p=p-1\n",
    "                    j=j+1\n",
    "\n",
    "                n4=2*i-(2*n+1) # how many number to print\n",
    "                p=i-(n-1) # what to print\n",
    "                j=1\n",
    "                while j<=n4:# for middle part\n",
    "                    print(p,end=\"\")\n",
    "                    j=j+1\n",
    "\n",
    "                n5=-i+2*n # how many number to print\n",
    "                j=1\n",
    "                p=i-(n-1) # what to print\n",
    "                while j<=n5:# for the last part\n",
    "                    print(p,end=\"\")\n",
    "                    j=j+1\n",
    "                    p=p+1\n",
    "     print()\n",
    "     i=i+1\n"
   ]
  },
  {
   "cell_type": "markdown",
   "id": "19a3ba42",
   "metadata": {},
   "source": [
    "   # *\n",
    "  # ***\n",
    " # *****\n",
    "  # ***\n",
    "   # *"
   ]
  },
  {
   "cell_type": "code",
   "execution_count": 51,
   "id": "d3146e0d",
   "metadata": {},
   "outputs": [
    {
     "name": "stdout",
     "output_type": "stream",
     "text": [
      "5\n",
      "  *\n",
      " ***\n",
      "*****\n",
      " ***\n",
      "  *\n"
     ]
    }
   ],
   "source": [
    "n=int(input())\n",
    "c=(1/2)*n+1/2\n",
    "c1=2*n+1\n",
    "i=1\n",
    "while i<=n:\n",
    "    if (1<=i<=((n+1)/2)):# for upper half part\n",
    "        sp=-i+c # how many numbers of spaces to print in i th row\n",
    "        while sp>=1: # for printing the space\n",
    "            print(\" \",end=\"\")\n",
    "            sp=sp-1\n",
    "        st=2*i-1 # how many numbers of stars to print in i th row\n",
    "        while st>=1: # for printing the stars\n",
    "            print(\"*\",end=\"\")\n",
    "            st=st-1\n",
    "    if ((n+1)/2<i<=n):#  for lower half part\n",
    "        sp1=i-c # how many numbers of spaces to print in i th row\n",
    "        while sp1>=1: # for printing the space\n",
    "            print(\" \",end=\"\")\n",
    "            sp1=sp1-1\n",
    "        st1=-2*i+c1 # how many numbers of stars to print in i th row\n",
    "        while st1>=1: # for printing the stars\n",
    "            print(\"*\",end=\"\")\n",
    "            st1=st1-1\n",
    "    print()\n",
    "    i=i+1"
   ]
  },
  {
   "cell_type": "code",
   "execution_count": null,
   "id": "2b2692bc",
   "metadata": {},
   "outputs": [],
   "source": [
    "n= int(input())\n",
    "o=int((n+1)/2)\n"
   ]
  },
  {
   "cell_type": "code",
   "execution_count": 93,
   "id": "9c2552d0",
   "metadata": {},
   "outputs": [
    {
     "name": "stdout",
     "output_type": "stream",
     "text": [
      "5\n",
      "1  2  3  4  5  \n",
      "11  12  13  14  15  \n",
      "21  22  23  24  25  \n"
     ]
    }
   ],
   "source": [
    "n= int(input())\n",
    "o=int((n+1)/2)\n",
    "i=1\n",
    "k=n\n",
    "while i<=o:\n",
    "    \n",
    "    j=1\n",
    "    p=2*k*i-(2*k-1)\n",
    "    while j<=k:\n",
    "        print(p,\" \",end=\"\")\n",
    "        j=j+1\n",
    "        p=p+1\n",
    "    \n",
    "\n",
    "    print()\n",
    "    i=i+1"
   ]
  },
  {
   "cell_type": "code",
   "execution_count": 3,
   "id": "c295dccc",
   "metadata": {},
   "outputs": [
    {
     "name": "stdout",
     "output_type": "stream",
     "text": [
      "4\n",
      "13  14  15  16  \n",
      "5  6  7  8  \n"
     ]
    }
   ],
   "source": [
    "n= int(input())\n",
    "o=int((n+1)/2)\n",
    "g=n\n",
    "i=1\n",
    "p=g+2*g+1\n",
    "while i<=o:\n",
    "    \n",
    "      \n",
    "   \n",
    "        j=1\n",
    "        k=n\n",
    "        l=p\n",
    "        while j<=k:\n",
    "            print(l,\" \",end=\"\")\n",
    "            j=j+1\n",
    "            l=l+1\n",
    "         \n",
    "        print()\n",
    "        p=p-(2*g)\n",
    "    \n",
    "        i=i+1\n",
    "        "
   ]
  },
  {
   "cell_type": "code",
   "execution_count": 104,
   "id": "d9027030",
   "metadata": {},
   "outputs": [
    {
     "name": "stdout",
     "output_type": "stream",
     "text": [
      "5\n",
      "1  2  3  4  5  \n",
      "11  12  13  14  15  \n",
      "21  22  23  24  25  \n",
      "16  17  18  19  20  \n",
      "6  7  8  9  10  \n"
     ]
    }
   ],
   "source": [
    "n= int(input())\n",
    "o=int((n+1)/2)\n",
    "i=1\n",
    "k=n\n",
    "g=n\n",
    "p=g+2*g+1\n",
    "\n",
    "while i<=n:\n",
    "    if (1<=i<=o):\n",
    "       \n",
    "\n",
    "            j=1\n",
    "            p=2*k*i-(2*k-1)\n",
    "            while j<=k:\n",
    "                print(p,\" \",end=\"\")\n",
    "                j=j+1\n",
    "                p=p+1\n",
    "    if (o<i<=n):\n",
    "        j=1\n",
    "        k=n\n",
    "        l=p\n",
    "        while j<=k:\n",
    "            print(l,\" \",end=\"\")\n",
    "            j=j+1\n",
    "            l=l+1\n",
    "        \n",
    "\n",
    "\n",
    "    print()\n",
    "    p=p-(2*g)\n",
    "    i=i+1\n",
    "    "
   ]
  },
  {
   "cell_type": "markdown",
   "id": "e5951e24",
   "metadata": {},
   "source": [
    "# Only for n= odd\n",
    "# 1  2  3  4  5  \n",
    "# 11  12  13  14  15  \n",
    "# 21  22  23  24  25  \n",
    "# 16  17  18  19  20  \n",
    "# 6  7  8  9  10"
   ]
  },
  {
   "cell_type": "code",
   "execution_count": 54,
   "id": "087f24d2",
   "metadata": {},
   "outputs": [
    {
     "name": "stdout",
     "output_type": "stream",
     "text": [
      "4\n",
      "1  2  3  4  \n",
      "9  10  11  12  \n",
      "5  6  7  8  \n",
      "-3  -2  -1  0  \n"
     ]
    }
   ],
   "source": [
    "n= int(input())\n",
    "o=int((n+1)/2)\n",
    "i=1\n",
    "k=n\n",
    "g=n\n",
    "p=g+2*g+1\n",
    "\n",
    "while i<=n:\n",
    "    if (1<=i<=o):\n",
    "       \n",
    "\n",
    "            j=1\n",
    "            p=2*k*i-(2*k-1)\n",
    "            while j<=k:\n",
    "                print(p,\" \",end=\"\")\n",
    "                j=j+1\n",
    "                p=p+1\n",
    "    if (o<i<=n):\n",
    "        j=1\n",
    "        k=n\n",
    "        l=p\n",
    "        while j<=k:\n",
    "            print(l,\" \",end=\"\")\n",
    "            j=j+1\n",
    "            l=l+1\n",
    "        \n",
    "\n",
    "\n",
    "    print()\n",
    "    \n",
    "    p=p-(2*g)\n",
    "    i=i+1\n",
    "    \n"
   ]
  },
  {
   "cell_type": "code",
   "execution_count": 38,
   "id": "ed672ab6",
   "metadata": {},
   "outputs": [
    {
     "name": "stdout",
     "output_type": "stream",
     "text": [
      "5\n",
      "1  2  3  4  5  \n",
      "11  12  13  14  15  \n",
      "21  22  23  24  25  \n",
      "-14  -13  -12  -11  -10  \n",
      "-24  -23  -22  -21  -20  \n"
     ]
    }
   ],
   "source": [
    "n= int(input())\n",
    "o=int((n+1)/2)\n",
    "i=1\n",
    "k=n\n",
    "g=n\n",
    "p=g+2*g+1\n",
    "t=n+2*n+1\n",
    "while i<=n:\n",
    "    if (1<=i<=o):\n",
    "       \n",
    "\n",
    "            j=1\n",
    "            p=2*k*i-(2*k-1)\n",
    "            while j<=k:\n",
    "                print(p,\" \",end=\"\")\n",
    "                j=j+1\n",
    "                p=p+1\n",
    "    if (o<i<=n):\n",
    "        j=1\n",
    "        k=n\n",
    "        l=t\n",
    "        while j<=k:\n",
    "            print(l,\" \",end=\"\")\n",
    "            j=j+1\n",
    "            l=l+1\n",
    "        \n",
    "\n",
    "\n",
    "    print()\n",
    "    t=t-(2*g)\n",
    "    i=i+1\n",
    "    "
   ]
  },
  {
   "cell_type": "markdown",
   "id": "76358281",
   "metadata": {},
   "source": [
    " # The pattern  For N=5\n",
    " # 1    2   3    4   5\n",
    " # 11   12  13   14  15\n",
    " # 21   22  23   24  25\n",
    " # 16   17  18   19  20\n",
    " # 6    7    8   9   10 \n",
    " # I think this have some error but answer i correct for n=3 also."
   ]
  },
  {
   "cell_type": "code",
   "execution_count": 53,
   "id": "49f6b557",
   "metadata": {},
   "outputs": [
    {
     "name": "stdout",
     "output_type": "stream",
     "text": [
      "6\n",
      "1  2  3  4  5  6  \n",
      "13  14  15  16  17  18  \n",
      "25  26  27  28  29  30  \n",
      "19  20  21  22  23  24  \n",
      "7  8  9  10  11  12  \n",
      "-5  -4  -3  -2  -1  0  \n"
     ]
    }
   ],
   "source": [
    "n= int(input())\n",
    "o=int((n+1)/2)\n",
    "i=1\n",
    "k=n\n",
    "g=n\n",
    "t=n+2*n+1\n",
    "while i<=n:\n",
    "    if (1<=i<=o):\n",
    "            j=1\n",
    "            p=2*k*i-(2*k-1)\n",
    "            while j<=k:\n",
    "                print(p,\" \",end=\"\")\n",
    "                j=j+1\n",
    "                p=p+1\n",
    "        \n",
    "    \n",
    "    if (o<i<=n):\n",
    "        j=1\n",
    "        k=n\n",
    "        l=t\n",
    "        while j<=k:\n",
    "            print(l,\" \",end=\"\")\n",
    "            j=j+1\n",
    "            l=l+1\n",
    "        t=t-(2*g)\n",
    "\n",
    "\n",
    "    print()\n",
    "   \n",
    "    i=i+1\n",
    "    "
   ]
  },
  {
   "cell_type": "markdown",
   "id": "5d95e30c",
   "metadata": {},
   "source": [
    "  # The pattern  For N=5\n",
    " # 1    2   3    4   5\n",
    " # 11   12  13   14  15\n",
    " # 21   22  23   24  25\n",
    " # 16   17  18   19  20\n",
    " # 6    7    8   9   10 \n",
    " # I think this have some error but answer i is not correct for n=3 also."
   ]
  },
  {
   "cell_type": "code",
   "execution_count": 52,
   "id": "f4803762",
   "metadata": {},
   "outputs": [
    {
     "name": "stdout",
     "output_type": "stream",
     "text": [
      "6\n",
      "1  2  3  4  5  6  \n",
      "13  14  15  16  17  18  \n",
      "25  26  27  28  29  30  \n",
      "19  20  21  22  23  24  \n",
      "7  8  9  10  11  12  \n",
      "-5  -4  -3  -2  -1  0  \n"
     ]
    }
   ],
   "source": [
    "n=int(input())\n",
    "if(n%2==1): # for checking odd or even\n",
    "    o=int((n+1)/2)\n",
    "    i=1\n",
    "    k=n\n",
    "    g=n\n",
    "    p=g+2*g+1 # the first number to print in lower half part\n",
    "\n",
    "    while i<=n:\n",
    "        if (1<=i<=o):# upper half part of pattern\n",
    "\n",
    "\n",
    "                j=1\n",
    "                p=2*k*i-(2*k-1)# what to print in upper half part\n",
    "                while j<=k: \n",
    "                    print(p,\" \",end=\"\")\n",
    "                    j=j+1\n",
    "                    p=p+1\n",
    "        if (o<i<=n): # for lower part of pattern\n",
    "            j=1\n",
    "            k=n\n",
    "            l=p # what to print lower part of pattern\n",
    "            while j<=k:\n",
    "                print(l,\" \",end=\"\")\n",
    "                j=j+1\n",
    "                l=l+1\n",
    "\n",
    "\n",
    "\n",
    "        print()\n",
    "        p=p-(2*g) # for dcrementing p \n",
    "        i=i+1\n",
    "if (n%2==0): # for checking odd or even\n",
    "    o=int((n+1)/2)\n",
    "    i=1\n",
    "    k=n\n",
    "    g=n\n",
    "    t=n+2*n+1 # the first number to print in lower half part\n",
    "    while i<=n:\n",
    "        if (1<=i<=o): # upper half part of pattern\n",
    "                j=1\n",
    "                p=2*k*i-(2*k-1) # what to print in upper half part\n",
    "                while j<=k:\n",
    "                    print(p,\" \",end=\"\")\n",
    "                    j=j+1\n",
    "                    p=p+1\n",
    "\n",
    "\n",
    "        if (o<i<=n): # for lower part of pattern\n",
    "            j=1\n",
    "            k=n\n",
    "            l=t  # what to print lower part of pattern\n",
    "            while j<=k:\n",
    "                print(l,\" \",end=\"\")\n",
    "                j=j+1\n",
    "                l=l+1\n",
    "            t=t-(2*g)  # for dcrementing t\n",
    "\n",
    "\n",
    "        print()\n",
    "\n",
    "        i=i+1\n",
    "\n",
    "\n"
   ]
  },
  {
   "cell_type": "code",
   "execution_count": null,
   "id": "4614ba1f",
   "metadata": {},
   "outputs": [],
   "source": []
  },
  {
   "cell_type": "code",
   "execution_count": null,
   "id": "6150d00f",
   "metadata": {},
   "outputs": [],
   "source": []
  }
 ],
 "metadata": {
  "kernelspec": {
   "display_name": "Python 3 (ipykernel)",
   "language": "python",
   "name": "python3"
  },
  "language_info": {
   "codemirror_mode": {
    "name": "ipython",
    "version": 3
   },
   "file_extension": ".py",
   "mimetype": "text/x-python",
   "name": "python",
   "nbconvert_exporter": "python",
   "pygments_lexer": "ipython3",
   "version": "3.9.13"
  }
 },
 "nbformat": 4,
 "nbformat_minor": 5
}
