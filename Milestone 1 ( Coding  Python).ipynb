{
 "cells": [
  {
   "cell_type": "markdown",
   "id": "faaddb20",
   "metadata": {},
   "source": [
    "# Introduction to Python"
   ]
  },
  {
   "cell_type": "markdown",
   "id": "43aa4ef9",
   "metadata": {},
   "source": [
    "#### Find average Marks\n",
    "Send Feedback\n",
    "Write a program to input marks of three tests of a student (all integers). Then calculate and print the average of all test marks.\n"
   ]
  },
  {
   "cell_type": "code",
   "execution_count": 1,
   "id": "2a037304",
   "metadata": {},
   "outputs": [
    {
     "name": "stdout",
     "output_type": "stream",
     "text": [
      "25\n",
      "36\n",
      "96\n",
      "52.333333333333336\n"
     ]
    }
   ],
   "source": [
    "# Read input as sepcified in the question\n",
    "first_test_marks = float(input())\n",
    "second_test_marks = float(input())\n",
    "third_test_marks = float(input())\n",
    "# Print output as specified in the question\n",
    "average = ( first_test_marks + second_test_marks + third_test_marks )/3\n",
    "print(average)"
   ]
  },
  {
   "cell_type": "markdown",
   "id": "26a1f368",
   "metadata": {},
   "source": [
    "#### Find X raised to power N\n",
    "Send Feedback\n",
    "You are given two integers: X and N. You have to calculate X raised to power N and print it.\n",
    "Input format:\n",
    "The first line of input contains an integer X (1 <= X <= 100)\n",
    "The second line of input contains an integer N (1 <= N <= 10) \n",
    "Constraints:\n",
    "Time Limit: 1 second\n",
    "Output format:\n",
    "The first and only line of output contains the result.  \n",
    "Sample Input:\n",
    "10\n",
    "4\n",
    "Sample Output:\n",
    "10000"
   ]
  },
  {
   "cell_type": "code",
   "execution_count": 6,
   "id": "e323ff0e",
   "metadata": {},
   "outputs": [
    {
     "name": "stdout",
     "output_type": "stream",
     "text": [
      "2\n",
      "5\n",
      "32\n"
     ]
    }
   ],
   "source": [
    "# Write your code here\n",
    "X = int(input())\n",
    "N = int(input())\n",
    "Z = X**N\n",
    "print(Z)"
   ]
  },
  {
   "cell_type": "markdown",
   "id": "e2efb057",
   "metadata": {},
   "source": [
    "#### Arithmetic Progression\n",
    "Send Feedback\n",
    "You are given first three entries of an arithmetic progression. You have to calculate the common difference and print it.\n",
    "Input format:\n",
    "The first line of input contains an integer a (1 <= a <= 100)\n",
    "The second line of input contains an integer b (1 <= b <= 100) \n",
    "The third line of input contains an integer c (1 <= c <= 100) \n",
    "Constraints:\n",
    "Time Limit: 1 second\n",
    "Output format:\n",
    "The first and only line of output contains the result.  \n",
    "Sample Input:\n",
    "1\n",
    "3\n",
    "5\n",
    "Sample Output:\n",
    "2\n",
    "\n",
    "Python (3.5)\n",
    "123456\n"
   ]
  },
  {
   "cell_type": "code",
   "execution_count": 3,
   "id": "5a0866b1",
   "metadata": {},
   "outputs": [
    {
     "name": "stdout",
     "output_type": "stream",
     "text": [
      "1\n",
      "2\n",
      "5\n",
      "3\n"
     ]
    }
   ],
   "source": [
    "# Write your code here\n",
    "a = int(input())\n",
    "b = int(input())\n",
    "c = int(input())\n",
    "common_difference = c - b \n",
    "print(common_difference)"
   ]
  },
  {
   "cell_type": "markdown",
   "id": "514f470b",
   "metadata": {},
   "source": [
    "#### Rectangular Area\n",
    "Send Feedback\n",
    "You are given a rectangle in a plane whose sides are parallel to the axes. The coordinates of one of its diagonals are provided to you. You have to print the total area of the rectangle.\n",
    "The coordinates of the rectangle are provided as four integral values: x1, y1, x2, y2. It is given that x1 < x2 and y1 < y2.\n",
    "\n",
    "\n",
    "Input format:\n",
    "The first line of input contains an integer x1 \n",
    "The second line of input contains an integer y1  \n",
    "The third line of input contains an integer x2 \n",
    "The fourth line of input contains an integer y2 \n",
    "Constraints:\n",
    "1 <= x1 <= 10\n",
    "1 <= y1 <= 10\n",
    "1 <= x2 <= 10\n",
    "1 <= y2 <= 10 \n",
    "Time Limit: 1 second\n",
    "Output format:\n",
    "The first and only line of output contains the result.  \n",
    "Sample Input:\n",
    "1\n",
    "1\n",
    "3\n",
    "3\n",
    "Sample Output:\n",
    "4\n",
    "Explanation:\n",
    "The given coordinates of the diagonal are (x1,y1) = (1,1) and (x2,y2) = (3, 3). \n",
    "The area of the rectangle can then easily be calculated as: \n",
    "(3 – 1) * ( 3 – 1) = 2 * 2 = 4 \n",
    "\n"
   ]
  },
  {
   "cell_type": "code",
   "execution_count": 5,
   "id": "ef12621d",
   "metadata": {},
   "outputs": [
    {
     "name": "stdout",
     "output_type": "stream",
     "text": [
      "2533\n",
      "252\n",
      "23\n",
      "362\n",
      "-276100\n"
     ]
    }
   ],
   "source": [
    "# Write your code here\n",
    "x1 = int(input())\n",
    "y1 = int(input())\n",
    "x2 = int(input())\n",
    "y2 = int(input())\n",
    "area = (x2 - x1)*(y2 - y1)\n",
    "print(area)"
   ]
  },
  {
   "cell_type": "markdown",
   "id": "646eac83",
   "metadata": {},
   "source": [
    "# Conditionals and Loops"
   ]
  },
  {
   "cell_type": "markdown",
   "id": "ea24d527",
   "metadata": {},
   "source": [
    "#### Check number\n",
    "Send Feedback\n",
    "Given an integer n, find if n is positive, negative or 0.\n",
    "If n is positive, print \"Positive\"\n",
    "If n is negative, print \"Negative\"\n",
    "And if n is equal to 0, print \"Zero\".\n",
    "Input Format :\n",
    "Integer n\n",
    "Output Format :\n",
    "\"Positive\" or \"Negative\" or \"Zero\" (without double quotes)\n",
    "Constraints :\n",
    "-100 <= n <= 100\n",
    "Sample Input 1 :\n",
    "10\n",
    "Sample Output 1 :\n",
    "Positive\n",
    "Sample Input 2 :\n",
    "-10\n",
    "Sample Output 2 :\n",
    "Negative"
   ]
  },
  {
   "cell_type": "code",
   "execution_count": 7,
   "id": "8bacccd0",
   "metadata": {},
   "outputs": [
    {
     "name": "stdout",
     "output_type": "stream",
     "text": [
      "5\n",
      "Positive\n"
     ]
    }
   ],
   "source": [
    "# Read input as sepcified in the question\n",
    "# Print output as specified in the question\n",
    "n = int(input())\n",
    "if n>0:\n",
    "    print(\"Positive\")\n",
    "elif n<0:\n",
    "    print(\"Negative\")\n",
    "elif n==0:\n",
    "    print(\"Zero\")"
   ]
  },
  {
   "cell_type": "markdown",
   "id": "4446803b",
   "metadata": {},
   "source": [
    "#### Sum of n numbers\n",
    "Send Feedback\n",
    "Given an integer n, find and print the sum of numbers from 1 to n.\n",
    "Note\n",
    "Use while loop only.\n",
    "Input Format :\n",
    "Integer n\n",
    "Output Format :\n",
    "Sum of numbers\n",
    "Constraints :\n",
    "1 <= n <= 100\n",
    "Sample Input :\n",
    "10\n",
    "Sample Output :\n",
    "55"
   ]
  },
  {
   "cell_type": "code",
   "execution_count": 8,
   "id": "d7b96162",
   "metadata": {},
   "outputs": [
    {
     "name": "stdout",
     "output_type": "stream",
     "text": [
      "5\n",
      "15\n"
     ]
    }
   ],
   "source": [
    "# Read input as sepcified in the question\n",
    "# Print output as specified in the question\n",
    "n = int(input())\n",
    "count = 1 \n",
    "sum = 0\n",
    "while count <= n:\n",
    "    sum = sum + count\n",
    "    count = count + 1\n",
    "print(sum)    "
   ]
  },
  {
   "cell_type": "markdown",
   "id": "cfb6fc90",
   "metadata": {},
   "source": [
    "#### Sum of Even Numbers\n",
    "Send Feedback\n",
    "Given a number N, print sum of all even numbers from 1 to N.\n",
    "Input Format :\n",
    "Integer N\n",
    "Output Format :\n",
    "Required Sum \n",
    "Sample Input 1 :\n",
    " 6\n",
    "Sample Output 1 :\n",
    "12"
   ]
  },
  {
   "cell_type": "code",
   "execution_count": 9,
   "id": "fadc004c",
   "metadata": {},
   "outputs": [
    {
     "name": "stdout",
     "output_type": "stream",
     "text": [
      "7\n",
      "12\n"
     ]
    }
   ],
   "source": [
    "'''\n",
    "\tPre-requisite to solve this problem:\n",
    "\tIn this question, we have to find sum of all even numbers till n. To take sum of all the even numbers, we have to take a variable and initialize it to zero. Let us name this variable as sum. \n",
    "\tFollowing code is used to add 2 to sum variable and update it to the same sum variable:\n",
    "\tsum = sum + 2 \n",
    "\t\n",
    "\tHint to solve this problem: We will have to loop on even numbers only and add the even numbers to the same sum variable, described above.\n",
    "'''\n",
    "\n",
    "## Read input as specified in the question.\n",
    "## Print output as specified in the question.\n",
    "n = int(input())\n",
    "sum = 0\n",
    "count = 2\n",
    "while count <= n:\n",
    "    if count % 2 ==0:\n",
    "     sum = sum + count\n",
    "     \n",
    "    count = count + 1\n",
    "print(sum)    \n"
   ]
  },
  {
   "cell_type": "markdown",
   "id": "2e7d4ed1",
   "metadata": {},
   "source": [
    "#### Fahrenheit to Celsius\n",
    "Send Feedback\n",
    "Given three values - Start Fahrenheit Value (S), End Fahrenheit value (E) and Step Size (W), you need to convert all Fahrenheit values from Start to End at the gap of W, into their corresponding Celsius values and print the table.\n",
    "Input Format :\n",
    "3 integers - S, E and W respectively \n",
    "Output Format :\n",
    "Fahrenheit to Celsius conversion table. One line for every Fahrenheit and corresponding Celsius value in integer form. The Fahrenheit value and its corresponding Celsius value should be separate by single space.\n",
    "Constraints :\n",
    "0 <= S <= 90\n",
    "S <= E <=  900\n",
    "0 <= W <= 80 \n",
    "Sample Input 1:\n",
    "0 \n",
    "100 \n",
    "20\n",
    "Sample Output 1:\n",
    "0   -17\n",
    "20  -6\n",
    "40  4\n",
    "60  15\n",
    "80  26\n",
    "100 37\n",
    "Sample Input 2:\n",
    "20\n",
    "119\n",
    "13\n",
    "Sample Output 2:\n",
    "20  -6\n",
    "33  0 \n",
    "46  7\n",
    "59  15\n",
    "72  22\n",
    "85  29\n",
    "98  36\n",
    "111 43\n",
    "Explanation For Input 2:\n",
    "Start calculating the Celsius values for each Fahrenheit Value which starts from 20. So starting from 20, we need to compute its corresponding Celsius value which computes to -6. We print this information as <Fahrenheit Value> <a single space> <Celsius Value> on each line. Now add 13 to Fahrenheit Value at each step until you reach 119 in this case. You may or may not exactly land on the end value depending on the steps you are taking."
   ]
  },
  {
   "cell_type": "code",
   "execution_count": 10,
   "id": "fafcfab3",
   "metadata": {},
   "outputs": [
    {
     "name": "stdout",
     "output_type": "stream",
     "text": [
      "45\n",
      "45\n",
      "12\n",
      "45   7\n"
     ]
    }
   ],
   "source": [
    "S = int(input())\n",
    "E = int(input())\n",
    "W = int(input())\n",
    "\n",
    "while S <= E:\n",
    "    K = int((S - 32) * 5/9)\n",
    "    print(S,\" \",K) \n",
    "    S = W + S"
   ]
  },
  {
   "cell_type": "markdown",
   "id": "0e777be5",
   "metadata": {},
   "source": [
    "#### Calculator\n",
    "Send Feedback\n",
    "Write a program that performs the tasks of a simple calculator. The program should first take an integer as input and then based on that integer perform the task as given below.\n",
    "1. If the input is 1, then 2 integers are taken from the user and their sum is printed.\n",
    "2. If the input is 2, then 2 integers are taken from the user and their difference(1st number - 2nd number) is printed.\n",
    "3. If the input is 3, then 2 integers are taken from the user and their product is printed.\n",
    "4. If the input is 4, then 2 integers are taken from the user and the quotient obtained (on dividing 1st number by 2nd number) is printed.\n",
    "5. If the input is 5, then 2 integers are taken from the user and their remainder(1st number mod 2nd number) is printed.\n",
    "6. If the input is 6, then the program exits.\n",
    "7. For any other input, then print \"Invalid Operation\".\n",
    "Note: Each answer in next line.\n",
    "Input format:\n",
    "Take integers as input, in accordance to the description of the question. \n",
    "Constraints:\n",
    "Time Limit: 1 second\n",
    "Output format:\n",
    "The output lines must be as prescribed in the description of the question.\n",
    "Sample Input:\n",
    "3\n",
    "1\n",
    "2\n",
    "4\n",
    "4\n",
    "2\n",
    "1\n",
    "3\n",
    "2\n",
    "7\n",
    "6\n",
    "Sample Output:\n",
    "2\n",
    "2\n",
    "5\n",
    "Invalid Operation\n",
    "Explanation of the sample input\n",
    "The first number given is 3, so that means two more numbers will be given and we'll have to multiply them and show the result. The two numbers are 1 and 2. Their product is 2, so 2 is displayed first in the output. Similarly, all the numbers are processed in groups of three. The first number tells the operation and the next two numbers tell on which numbers the operation is done. This applies to numbers from 1 to 5. If the input is 6 (like it is at the end), two more numbers will NOT be provided, you simply have to exit the program. Also, if the input is any number except 1 to 6 (like 7 which is at the second last), then you simply have to print \"Invalid Operation\""
   ]
  },
  {
   "cell_type": "code",
   "execution_count": 14,
   "id": "2ab2f62c",
   "metadata": {},
   "outputs": [
    {
     "name": "stdout",
     "output_type": "stream",
     "text": [
      "2\n",
      "3\n",
      "4\n",
      "-1\n",
      "6\n"
     ]
    }
   ],
   "source": [
    "n= int(input())\n",
    "while n != 6:\n",
    "    if n <= 5 and n >= 1:\n",
    "        a = int(input())\n",
    "        b = int(input())\n",
    "    if n==1:\n",
    "        print(a + b)\n",
    "    if n==2:\n",
    "        print(a - b)\n",
    "    if n==3:\n",
    "        print(a * b)\n",
    "    if n==4:\n",
    "        print(a // b)\n",
    "    if n==5:\n",
    "        print(a % b)\n",
    "    elif n < 1 or n > 6:\n",
    "        print(\"Invalid Operation\")\n",
    "    n=int(input())"
   ]
  },
  {
   "cell_type": "markdown",
   "id": "252f5a24",
   "metadata": {},
   "source": [
    "#### Reverse of a number\n",
    "Send Feedback\n",
    "Write a program to generate the reverse of a given number N. Print the corresponding reverse number.\n",
    "Note : If a number has trailing zeros, then its reverse will not include them. For e.g., reverse of 10400 will be 401 instead of 00401.\n",
    "\n",
    "\n",
    "Input format :\n",
    "Integer N\n",
    "Output format :\n",
    "Corresponding reverse number\n",
    "Constraints:\n",
    "0 <= N < 10^8\n",
    "Sample Input 1 :\n",
    "1234\n",
    "Sample Output 1 :\n",
    "4321\n",
    "Sample Input 2 :\n",
    "1980\n",
    "Sample Output 2 :\n",
    "891"
   ]
  },
  {
   "cell_type": "code",
   "execution_count": 15,
   "id": "89b3ea9a",
   "metadata": {},
   "outputs": [
    {
     "name": "stdout",
     "output_type": "stream",
     "text": [
      "1234\n",
      "4321\n"
     ]
    }
   ],
   "source": [
    "#Write Your Code Here\n",
    "n = int(input())\n",
    "rev = 0\n",
    "while (n!=0):\n",
    "    a =int(n%10)\n",
    "    \n",
    "    b =int(n//10)\n",
    "    rev = rev*10+a\n",
    "    n=b\n",
    "    \n",
    "print(rev)\n",
    "\n",
    "    "
   ]
  },
  {
   "cell_type": "markdown",
   "id": "dc91994e",
   "metadata": {},
   "source": [
    "#### Palindrome number\n",
    "Send Feedback\n",
    "Write a program to determine if given number is palindrome or not. Print true if it is palindrome, false otherwise.\n",
    "Palindrome are the numbers for which reverse is exactly same as the original one. For eg. 121\n",
    "Sample Input 1 :\n",
    "121\n",
    "Sample Output 1 :\n",
    "true\n",
    "Sample Input 2 :\n",
    "1032\n",
    "Sample Output 2 :\n",
    "false"
   ]
  },
  {
   "cell_type": "code",
   "execution_count": 17,
   "id": "de8d74de",
   "metadata": {},
   "outputs": [
    {
     "name": "stdout",
     "output_type": "stream",
     "text": [
      "121\n",
      "true\n"
     ]
    }
   ],
   "source": [
    "n = int(input())\n",
    "z=n\n",
    "rev = 0\n",
    "while (n!=0):\n",
    "        a =int(n%10)\n",
    "    \n",
    "        b =int(n//10)\n",
    "        rev = rev*10+a\n",
    "        n=b\n",
    "if (z==rev):\n",
    "        checkPalindrome=True\n",
    "else:\n",
    "        checkPalindrome=False\n",
    "    \n",
    "\n",
    "\n",
    "isPalindrome = checkPalindrome\n",
    "if(isPalindrome):\n",
    "\tprint('true')\n",
    "else:\n",
    "\tprint('false')"
   ]
  },
  {
   "cell_type": "markdown",
   "id": "c8e59c20",
   "metadata": {},
   "source": [
    "#### Sum of even & odd\n",
    "Send Feedback\n",
    "Write a program to input an integer N and print the sum of all its even digits and sum of all its odd digits separately.\n",
    "Digits mean numbers, not the places! That is, if the given integer is \"13245\", even digits are 2 & 4 and odd digits are 1, 3 & 5.\n",
    "Input format :\n",
    " Integer N\n",
    "Output format :\n",
    "Sum_of_Even_Digits Sum_of_Odd_Digits\n",
    "(Print first even sum and then odd sum separated by space)\n",
    "Constraints\n",
    "0 <= N <= 10^8\n",
    "Sample Input 1:\n",
    "1234\n",
    "Sample Output 1:\n",
    "6 4\n",
    "Sample Input 2:\n",
    "552245\n",
    "Sample Output 2:\n",
    "8 15\n",
    "Explanation for Input 2:\n",
    "For the given input, the even digits are 2, 2 and 4 and if we take the sum of these digits it will come out to be 8(2 + 2 + 4) and similarly, if we look at the odd digits, they are, 5, 5 and 5 which makes a sum of 15(5 + 5 + 5). Hence the answer would be, 8(evenSum) <single space> 15(oddSum)"
   ]
  },
  {
   "cell_type": "code",
   "execution_count": 18,
   "id": "3a47bfa0",
   "metadata": {},
   "outputs": [
    {
     "name": "stdout",
     "output_type": "stream",
     "text": [
      "10\n",
      "0  1\n"
     ]
    }
   ],
   "source": [
    "## Note : For printing multiple values in one line, put them inside print separated by space.\n",
    "## You can follow this syntax for printing values of two variables val1 and val2 separaetd by space -\n",
    "## print(val1, \" \", val2)\n",
    "n =int(input())\n",
    "sum_e = 0\n",
    "sum_o = 0\n",
    "while n!=0:\n",
    "    b = n%10\n",
    "    a = n//10\n",
    "    if b%2==0:\n",
    "        sum_e = sum_e + b\n",
    "    else:\n",
    "        sum_o = sum_o + b\n",
    "    n=a   \n",
    "print(sum_e,\"\",sum_o)"
   ]
  },
  {
   "cell_type": "markdown",
   "id": "804b0b7d",
   "metadata": {},
   "source": [
    "#### Nth Fibonacci Number\n",
    "Send Feedback\n",
    "Nth term of Fibonacci series F(n), where F(n) is a function, is calculated using the following formula -\n",
    "    F(n) = F(n-1) + F(n-2), \n",
    "    Where, F(1) =  1, \n",
    "           F(2) = 1\n",
    "Provided N you have to find out the Nth Fibonacci Number.\n",
    "Input Format :\n",
    "The first line of each test case contains a real number ‘N’.\n",
    "Output Format :\n",
    "For each test case, return its equivalent Fibonacci number.\n",
    "Constraints:\n",
    "1 <= N <= 10000     \n",
    "Where ‘N’ represents the number for which we have to find its equivalent Fibonacci number.\n",
    "\n",
    "Time Limit: 1 second\n",
    "Sample Input 1:\n",
    "6\n",
    "Sample Output 1:\n",
    "8\n",
    "Explanation\n",
    "Now the number is ‘6’ so we have to find the “6th” Fibonacci number\n",
    "So by using the property of the Fibonacci series i.e \n",
    "\n",
    "[ 1, 1, 2, 3, 5, 8, 13, 21]\n",
    "So the “6th” element is “8” hence we get the output."
   ]
  },
  {
   "cell_type": "code",
   "execution_count": 20,
   "id": "8cd9763e",
   "metadata": {},
   "outputs": [
    {
     "name": "stdout",
     "output_type": "stream",
     "text": [
      "6\n",
      "8\n"
     ]
    }
   ],
   "source": [
    "## Read input as specified in the question.\n",
    "## Print output as specified in the question.\n",
    "## Read input as specified in the question.\n",
    "## Print output as specified in the question.\n",
    "n = int(input())\n",
    "a=0\n",
    "b=1\n",
    "i=1\n",
    "while i<=n:\n",
    "    f=a+b\n",
    "    a=b\n",
    "    b=f\n",
    "    i=i+1\n",
    "print(a)\n",
    "\n"
   ]
  },
  {
   "cell_type": "markdown",
   "id": "578d65d2",
   "metadata": {},
   "source": [
    "# Patterns 1"
   ]
  },
  {
   "cell_type": "markdown",
   "id": "f63c6ed1",
   "metadata": {},
   "source": [
    "#### Code : Square Pattern\n",
    "Send Feedback\n",
    "Print the following pattern for the given N number of rows.\n",
    "Pattern for N = 4\n",
    "4444\n",
    "4444\n",
    "4444\n",
    "4444\n",
    "Input format :\n",
    "Integer N (Total no. of rows)\n",
    "Output format :\n",
    "Pattern in N lines\n",
    "Constraints\n",
    "0 <= N <= 50\n",
    "Sample Input 1:\n",
    "7\n",
    "Sample Output 1:\n",
    "7777777\n",
    "7777777\n",
    "7777777\n",
    "7777777\n",
    "7777777\n",
    "7777777\n",
    "7777777\n",
    "Sample Input 1:\n",
    "6\n",
    "Sample Output 1:\n",
    "666666\n",
    "666666\n",
    "666666\n",
    "666666\n",
    "666666\n",
    "666666"
   ]
  },
  {
   "cell_type": "code",
   "execution_count": 21,
   "id": "99fc62a4",
   "metadata": {},
   "outputs": [
    {
     "name": "stdout",
     "output_type": "stream",
     "text": [
      "4\n",
      "4444\n",
      "4444\n",
      "4444\n",
      "4444\n"
     ]
    }
   ],
   "source": [
    "## Read input as specified in the question\n",
    "## Print the required output in given format\n",
    "n = int(input())\n",
    "i=1\n",
    "while i<=n:\n",
    "    j = 1\n",
    "    while j<=n:\n",
    "        print( n,end='')\n",
    "        j=j+1\n",
    "    print(\"\")    \n",
    "    i=i+1    \n",
    "    \n",
    "    "
   ]
  },
  {
   "cell_type": "markdown",
   "id": "7f0a5e3f",
   "metadata": {},
   "source": [
    "#### Code : Triangular Star Pattern\n",
    "Send Feedback\n",
    "Print the following pattern for the given N number of rows.\n",
    "Pattern for N = 4\n",
    "*\n",
    "**\n",
    "***\n",
    "****\n",
    "Note : There are no spaces between the stars (*).\n",
    "Input format :\n",
    "Integer N (Total no. of rows)\n",
    "Output format :\n",
    "Pattern in N lines\n",
    "Constraints\n",
    "0 <= N <= 50\n",
    "Sample Input 1:\n",
    "5\n",
    "Sample Output 1:\n",
    "*\n",
    "**\n",
    "***\n",
    "****\n",
    "*****\n",
    "Sample Input 2:\n",
    "6\n",
    "Sample Output 2:\n",
    "*\n",
    "**\n",
    "***\n",
    "****\n",
    "*****\n",
    "******"
   ]
  },
  {
   "cell_type": "code",
   "execution_count": 22,
   "id": "c17371fd",
   "metadata": {},
   "outputs": [
    {
     "name": "stdout",
     "output_type": "stream",
     "text": [
      "5\n",
      "*\n",
      "**\n",
      "***\n",
      "****\n",
      "*****\n"
     ]
    }
   ],
   "source": [
    "## Read input as specified in the question\n",
    "## Print the required output in given format\n",
    "n=int(input())\n",
    "i=1\n",
    "while i<=n:\n",
    "    j=1\n",
    "    while j<=i:\n",
    "        print(\"*\",end=\"\")\n",
    "        j=j+1\n",
    "    print() \n",
    "    i=i+1\n",
    "    "
   ]
  },
  {
   "cell_type": "markdown",
   "id": "f4ad14a3",
   "metadata": {},
   "source": [
    "#### Code : Triangle Number Pattern\n",
    "Send Feedback\n",
    "Print the following pattern for the given N number of rows.\n",
    "Pattern for N = 4\n",
    "1\n",
    "22\n",
    "333\n",
    "4444\n",
    "Input format :\n",
    "Integer N (Total no. of rows)\n",
    "Output format :\n",
    "Pattern in N lines\n",
    "Constraints\n",
    "0 <= N <= 50\n",
    "Sample Input 1:\n",
    "5\n",
    "Sample Output 1:\n",
    "1\n",
    "22\n",
    "333\n",
    "4444\n",
    "55555\n",
    "Sample Input 2:\n",
    "6\n",
    "Sample Output 2:\n",
    "1\n",
    "22\n",
    "333\n",
    "4444\n",
    "55555\n",
    "666666"
   ]
  },
  {
   "cell_type": "code",
   "execution_count": 23,
   "id": "9da8df70",
   "metadata": {},
   "outputs": [
    {
     "name": "stdout",
     "output_type": "stream",
     "text": [
      "5\n",
      "1\n",
      "22\n",
      "333\n",
      "4444\n",
      "55555\n"
     ]
    }
   ],
   "source": [
    "## Read input as specified in the question\n",
    "## Print the required output in given format\n",
    "n=int(input())\n",
    "i=1\n",
    "while i<=n:\n",
    "    j=1\n",
    "    while j<=i:\n",
    "        print(i,end=\"\")\n",
    "        j=j+1\n",
    "    print()\n",
    "    i=i+1\n",
    "    "
   ]
  },
  {
   "cell_type": "markdown",
   "id": "e632e9f1",
   "metadata": {},
   "source": [
    "#### Code : Reverse Number Pattern\n",
    "Send Feedback\n",
    "Print the following pattern for the given N number of rows.\n",
    "Pattern for N = 4\n",
    "1\n",
    "21\n",
    "321\n",
    "4321\n",
    "Input format :\n",
    "Integer N (Total no. of rows)\n",
    "Output format :\n",
    "Pattern in N lines\n",
    "Constraints\n",
    "0 <= N <= 50\n",
    "Sample Input 1:\n",
    "5\n",
    "Sample Output 1:\n",
    "1\n",
    "21\n",
    "321\n",
    "4321\n",
    "54321\n",
    "Sample Input 2:\n",
    "6\n",
    "Sample Output 2:\n",
    "1\n",
    "21\n",
    "321\n",
    "4321\n",
    "54321\n",
    "654321"
   ]
  },
  {
   "cell_type": "code",
   "execution_count": 24,
   "id": "592edbcb",
   "metadata": {},
   "outputs": [
    {
     "name": "stdout",
     "output_type": "stream",
     "text": [
      "5\n",
      "1\n",
      "21\n",
      "321\n",
      "4321\n",
      "54321\n"
     ]
    }
   ],
   "source": [
    "## Read input as specified in the question\n",
    "## Print the required output in given format\n",
    "n=int(input())\n",
    "i=1\n",
    "while i<=n:\n",
    "    j=1\n",
    "    p=i\n",
    "    while j<=i:\n",
    "        print(p,end=\"\")\n",
    "        j=j+1\n",
    "        p=p-1\n",
    "    print() \n",
    "    i=i+1\n",
    "    "
   ]
  },
  {
   "cell_type": "markdown",
   "id": "44cdb3d2",
   "metadata": {},
   "source": [
    "#### Code : Character Pattern\n",
    "Send Feedback\n",
    "Print the following pattern for the given N number of rows.\n",
    "Pattern for N = 4\n",
    "A\n",
    "BC\n",
    "CDE\n",
    "DEFG\n",
    "Input format :\n",
    "Integer N (Total no. of rows)\n",
    "Output format :\n",
    "Pattern in N lines\n",
    "Constraints\n",
    "0 <= N <= 13\n",
    "Sample Input 1:\n",
    "5\n",
    "Sample Output 1:\n",
    "A\n",
    "BC\n",
    "CDE\n",
    "DEFG\n",
    "EFGHI\n",
    "Sample Input 2:\n",
    "6\n",
    "Sample Output 2:\n",
    "A\n",
    "BC\n",
    "CDE\n",
    "DEFG\n",
    "EFGHI\n",
    "FGHIJK"
   ]
  },
  {
   "cell_type": "code",
   "execution_count": 25,
   "id": "9d947e82",
   "metadata": {},
   "outputs": [
    {
     "name": "stdout",
     "output_type": "stream",
     "text": [
      "5\n",
      "A\n",
      "BC\n",
      "CDE\n",
      "DEFG\n",
      "EFGHI\n"
     ]
    }
   ],
   "source": [
    "## Read input as specified in the question\n",
    "## Print the required output in given format\n",
    "n= int(input())\n",
    "i=1\n",
    "x=ord('A')\n",
    "\n",
    "while i<=n:\n",
    "    j=1\n",
    "    while j<=i:\n",
    "        char_P=chr(x+j-1)\n",
    "        print(char_P,end=\"\")\n",
    "        j=j+1\n",
    "        \n",
    "    print()\n",
    "    i=i+1\n",
    "    x=x+1"
   ]
  },
  {
   "cell_type": "markdown",
   "id": "daf34f44",
   "metadata": {},
   "source": [
    "#### Code : Interesting Alphabets\n",
    "Send Feedback\n",
    "Print the following pattern for the given number of rows.\n",
    "Pattern for N = 5\n",
    "E\n",
    "DE\n",
    "CDE\n",
    "BCDE\n",
    "ABCDE\n",
    "Input format :\n",
    "N (Total no. of rows)\n",
    "Output format :\n",
    "Pattern in N lines\n",
    "Constraints\n",
    "0 <= N <= 26\n",
    "Sample Input 1:\n",
    "8\n",
    "Sample Output 1:\n",
    "H\n",
    "GH\n",
    "FGH\n",
    "EFGH\n",
    "DEFGH\n",
    "CDEFGH\n",
    "BCDEFGH\n",
    "ABCDEFGH\n",
    "Sample Input 2:\n",
    "7\n",
    "Sample Output 2:\n",
    "G\n",
    "FG\n",
    "EFG\n",
    "DEFG\n",
    "CDEFG\n",
    "BCDEFG\n",
    "ABCDEFG"
   ]
  },
  {
   "cell_type": "code",
   "execution_count": 26,
   "id": "12137d93",
   "metadata": {},
   "outputs": [
    {
     "name": "stdout",
     "output_type": "stream",
     "text": [
      "5\n",
      "E\n",
      "DE\n",
      "CDE\n",
      "BCDE\n",
      "ABCDE\n"
     ]
    }
   ],
   "source": [
    "## Read input as specified in the question.\n",
    "## Print output as specified in the question.\n",
    "## Read input as specified in the question\n",
    "## Print the required output in given format\n",
    "n= int(input())\n",
    "i=1\n",
    "x= ord('A') + n-1\n",
    "\n",
    "while i<=n:\n",
    "    j=1\n",
    "    while j<=i:\n",
    "        char_P=chr(x+j-1)\n",
    "        print(char_P,end=\"\")\n",
    "        j=j+1\n",
    "        \n",
    "    print()\n",
    "    i=i+1\n",
    "    x=x-1"
   ]
  },
  {
   "cell_type": "markdown",
   "id": "f82385e0",
   "metadata": {},
   "source": [
    "#### Number Pattern 1\n",
    "Send Feedback\n",
    "Print the following pattern for the given N number of rows.\n",
    "Pattern for N = 4\n",
    "1\n",
    "11\n",
    "111\n",
    "1111\n",
    "Input format :\n",
    "Integer N (Total no. of rows)\n",
    "Output format :\n",
    "Pattern in N lines\n",
    "Sample Input :\n",
    "5\n",
    "Sample Output :\n",
    "1\n",
    "11\n",
    "111\n",
    "1111\n",
    "11111"
   ]
  },
  {
   "cell_type": "code",
   "execution_count": 27,
   "id": "fb413229",
   "metadata": {},
   "outputs": [
    {
     "name": "stdout",
     "output_type": "stream",
     "text": [
      "4\n",
      "1\n",
      "11\n",
      "111\n",
      "1111\n"
     ]
    }
   ],
   "source": [
    "## Read input as specified in the question.\n",
    "## Print output as specified in the question.\n",
    "n = int(input())\n",
    "i=1\n",
    "while i<=n:\n",
    "    j=1\n",
    "    while j<=i:\n",
    "        print(1,end=\"\")\n",
    "        j=j+1\n",
    "    print()\n",
    "    i=i+1"
   ]
  },
  {
   "cell_type": "markdown",
   "id": "146a8b53",
   "metadata": {},
   "source": [
    "#### Number Pattern 2\n",
    "Send Feedback\n",
    "Print the following pattern for the given N number of rows.\n",
    "Pattern for N = 4\n",
    "1\n",
    "11\n",
    "202\n",
    "3003\n",
    "Input format :\n",
    "Integer N (Total no. of rows)\n",
    "Constraints:\n",
    "1 <= n <= 50\n",
    "Output format :\n",
    "Pattern in N lines\n",
    "Sample Input :\n",
    "5\n",
    "Sample Output :\n",
    "1\n",
    "11\n",
    "202\n",
    "3003\n",
    "40004"
   ]
  },
  {
   "cell_type": "code",
   "execution_count": 28,
   "id": "685030fe",
   "metadata": {},
   "outputs": [
    {
     "name": "stdout",
     "output_type": "stream",
     "text": [
      "4\n",
      "1\n",
      "11\n",
      "202\n",
      "3003\n"
     ]
    }
   ],
   "source": [
    "## Read input as specified in the question.\n",
    "## Print output as specified in the question.\n",
    "n=int(input())\n",
    "i=1\n",
    "while i<=n:\n",
    "    if i==1:\n",
    "        print(i,end=\"\")\n",
    "    else:\n",
    "        print(i-1,end=\"\")\n",
    "        j=1\n",
    "        while j<=i-2:\n",
    "            print(0,end=\"\")\n",
    "            j=j+1\n",
    "        print(i-1,end=\"\")\n",
    "    print()\n",
    "    i=i+1"
   ]
  },
  {
   "cell_type": "markdown",
   "id": "b9ce6d96",
   "metadata": {},
   "source": [
    "#### Number Pattern 3\n",
    "Send Feedback\n",
    "Print the following pattern for the given N number of rows.\n",
    "Pattern for N = 4\n",
    "1\n",
    "11\n",
    "121\n",
    "1221\n",
    "Input format :\n",
    "Integer N (Total no. of rows)\n",
    "Output format :\n",
    "Pattern in N lines\n",
    "Sample Input :\n",
    "5\n",
    "Sample Output :\n",
    "1\n",
    "11\n",
    "121\n",
    "1221\n",
    "12221"
   ]
  },
  {
   "cell_type": "code",
   "execution_count": 29,
   "id": "69ff02aa",
   "metadata": {},
   "outputs": [
    {
     "name": "stdout",
     "output_type": "stream",
     "text": [
      "5\n",
      "1\n",
      "11\n",
      "121\n",
      "1221\n",
      "12221\n"
     ]
    }
   ],
   "source": [
    "## Read input as specified in the question.\n",
    "## Print output as specified in the question.\n",
    "## Read input as specified in the question.\n",
    "## Print output as specified in the question.\n",
    "n=int(input())\n",
    "i=1\n",
    "while i<=n:\n",
    "    if i==1:\n",
    "        print(i,end=\"\")\n",
    "    else:\n",
    "        print(1,end=\"\")\n",
    "        j=1\n",
    "        while j<=i-2:\n",
    "            print(2,end=\"\")\n",
    "            j=j+1\n",
    "        print(1,end=\"\")\n",
    "    print()\n",
    "    i=i+1"
   ]
  },
  {
   "cell_type": "markdown",
   "id": "402a4a38",
   "metadata": {},
   "source": [
    "#### Number Pattern\n",
    "Send Feedback\n",
    "Print the following pattern for the given N number of rows.\n",
    "Pattern for N = 4\n",
    "1234\n",
    "123\n",
    "12\n",
    "1\n",
    "Input format :\n",
    "Integer N (Total no. of rows)\n",
    "Output format :\n",
    "Pattern in N lines\n",
    "Sample Input :\n",
    "5\n",
    "Sample Output :\n",
    "12345\n",
    "1234\n",
    "123\n",
    "12\n",
    "1"
   ]
  },
  {
   "cell_type": "code",
   "execution_count": 30,
   "id": "94c30f63",
   "metadata": {},
   "outputs": [
    {
     "name": "stdout",
     "output_type": "stream",
     "text": [
      "5\n",
      "12345\n",
      "1234\n",
      "123\n",
      "12\n",
      "1\n"
     ]
    }
   ],
   "source": [
    "## Read input as specified in the question.\n",
    "## Print output as specified in the question.\n",
    "n=int(input())\n",
    "i=1\n",
    "while i<=n:\n",
    "    j=1\n",
    "    while j<=(n-i+1):\n",
    "        print(j,end=\"\")\n",
    "        j=j+1\n",
    "    print()\n",
    "    i=i+1\n",
    "    "
   ]
  },
  {
   "cell_type": "markdown",
   "id": "1adcc67d",
   "metadata": {},
   "source": [
    "#### Alpha Pattern\n",
    "Send Feedback\n",
    "Print the following pattern for the given N number of rows.\n",
    "Pattern for N = 3\n",
    " A\n",
    " BB\n",
    " CCC\n",
    "Input format :\n",
    "Integer N (Total no. of rows)\n",
    "Output format :\n",
    "Pattern in N lines\n",
    "Constraints\n",
    "0 <= N <= 26\n",
    "Sample Input 1:\n",
    "7\n",
    "Sample Output 1:\n",
    "A\n",
    "BB\n",
    "CCC\n",
    "DDDD\n",
    "EEEEE\n",
    "FFFFFF\n",
    "GGGGGGG\n",
    "Sample Input 2:\n",
    "6\n",
    "Sample Output 2:\n",
    "A\n",
    "BB\n",
    "CCC\n",
    "DDDD\n",
    "EEEEE\n",
    "FFFFFF\n"
   ]
  },
  {
   "cell_type": "code",
   "execution_count": 31,
   "id": "cdc37c71",
   "metadata": {},
   "outputs": [
    {
     "name": "stdout",
     "output_type": "stream",
     "text": [
      "5\n",
      "A\n",
      "BB\n",
      "CCC\n",
      "DDDD\n",
      "EEEEE\n"
     ]
    }
   ],
   "source": [
    "## Read input as specified in the question.\n",
    "## Print output as specified in the question.\n",
    "n=int(input())\n",
    "i=1\n",
    "x=ord(\"A\")\n",
    "while i<=n:\n",
    "    j=1\n",
    "    char_P=chr(x+j-1)\n",
    "    while j<=i:\n",
    "        print(char_P,end=\"\")\n",
    "        j=j+1\n",
    "        \n",
    "    print()\n",
    "    x=x+1\n",
    "    i=i+1\n",
    "    "
   ]
  },
  {
   "cell_type": "markdown",
   "id": "b490762a",
   "metadata": {},
   "source": [
    "# Patterns 2"
   ]
  },
  {
   "cell_type": "markdown",
   "id": "ebc0e243",
   "metadata": {},
   "source": [
    "#### Code : Inverted Number Pattern\n",
    "Send Feedback\n",
    "Print the following pattern for the given N number of rows.\n",
    "Pattern for N = 4\n",
    "4444\n",
    "333\n",
    "22\n",
    "1\n",
    "Input format :\n",
    "Integer N (Total no. of rows)\n",
    "Output format :\n",
    "Pattern in N lines\n",
    "Constraints :\n",
    "0 <= N <= 50\n",
    "Sample Input 1:\n",
    "5\n",
    "Sample Output 1:\n",
    "55555 \n",
    "4444\n",
    "333\n",
    "22\n",
    "1\n",
    "Sample Input 2:\n",
    "6\n",
    "Sample Output 2:\n",
    "666666\n",
    "55555 \n",
    "4444\n",
    "333\n",
    "22\n",
    "1"
   ]
  },
  {
   "cell_type": "code",
   "execution_count": 32,
   "id": "579c8978",
   "metadata": {},
   "outputs": [
    {
     "name": "stdout",
     "output_type": "stream",
     "text": [
      "5\n",
      "55555\n",
      "4444\n",
      "333\n",
      "22\n",
      "1\n"
     ]
    }
   ],
   "source": [
    "## Read input as specified in the question\n",
    "## Print the required output in given format\n",
    "n=int(input())\n",
    "i=1\n",
    "while i<=n:\n",
    "    j=1\n",
    "    while j<=n-i+1:\n",
    "        print(n-i+1,end=\"\")\n",
    "        j=j+1\n",
    "    print() \n",
    "    i=i+1"
   ]
  },
  {
   "cell_type": "markdown",
   "id": "70b67e48",
   "metadata": {},
   "source": [
    "#### Code : Mirror Number Pattern\n",
    "Send Feedback\n",
    "Print the following pattern for the given N number of rows.\n",
    "Pattern for N = 4\n",
    "\n",
    "\n",
    "\n",
    "\n",
    "The dots represent spaces.\n",
    "\n",
    "\n",
    "Input format :\n",
    "Integer N (Total no. of rows)\n",
    "Output format :\n",
    "Pattern in N lines\n",
    "Constraints\n",
    "0 <= N <= 50\n",
    "Sample Input 1:\n",
    "3\n",
    "Sample Output 1:\n",
    "      1 \n",
    "    12\n",
    "  123\n",
    "Sample Input 2:\n",
    "4\n",
    "Sample Output 2:\n",
    "      1 \n",
    "    12\n",
    "  123\n",
    "1234"
   ]
  },
  {
   "cell_type": "code",
   "execution_count": 33,
   "id": "1c7a222e",
   "metadata": {},
   "outputs": [
    {
     "name": "stdout",
     "output_type": "stream",
     "text": [
      "5\n",
      "    1\n",
      "   12\n",
      "  123\n",
      " 1234\n",
      "12345\n"
     ]
    }
   ],
   "source": [
    "## Read input as specified in the question\n",
    "## Print the required output in given format\n",
    "n=int(input())\n",
    "i=1\n",
    "while i<=n:\n",
    "    spaces=1\n",
    "    while spaces <=n-i:\n",
    "        print(' ',end=\"\")\n",
    "        spaces = spaces + 1\n",
    "    p=1\n",
    "    j=1\n",
    "    while j<=i:\n",
    "        print(p,end=\"\")\n",
    "        j = j + 1\n",
    "        p = p + 1\n",
    "    print()\n",
    "    i = i + 1 "
   ]
  },
  {
   "cell_type": "markdown",
   "id": "836dea6d",
   "metadata": {},
   "source": [
    "#### Code : Star Pattern\n",
    "Send Feedback\n",
    "Print the following pattern\n",
    "Pattern for N = 4\n",
    "\n",
    "\n",
    "\n",
    "The dots represent spaces.\n",
    "\n",
    "\n",
    "\n",
    "Input Format :\n",
    "N (Total no. of rows)\n",
    "Output Format :\n",
    "Pattern in N lines\n",
    "Constraints :\n",
    "0 <= N <= 50\n",
    "Sample Input 1 :\n",
    "3\n",
    "Sample Output 1 :\n",
    "   *\n",
    "  *** \n",
    " *****\n",
    "Sample Input 2 :\n",
    "4\n",
    "Sample Output 2 :\n",
    "    *\n",
    "   *** \n",
    "  *****\n",
    " *******"
   ]
  },
  {
   "cell_type": "code",
   "execution_count": 34,
   "id": "2251fe9c",
   "metadata": {},
   "outputs": [
    {
     "name": "stdout",
     "output_type": "stream",
     "text": [
      "5\n",
      "    *\n",
      "   ***\n",
      "  *****\n",
      " *******\n",
      "*********\n"
     ]
    }
   ],
   "source": [
    "## Read input as specified in the question.\n",
    "## Print output as specified in the question.\n",
    "n=int(input())\n",
    "k=1\n",
    "i=1\n",
    "while i<=n:\n",
    "    j=1\n",
    "    while j<=(n-i):\n",
    "        print(\" \",end=\"\")\n",
    "        j=j+1\n",
    "    b=1    \n",
    "    while b<=k:\n",
    "        print(\"*\",end=\"\")\n",
    "        b=b+1\n",
    "    print()\n",
    "    k=k+2\n",
    "    i=i+1"
   ]
  },
  {
   "cell_type": "markdown",
   "id": "aaca6fd1",
   "metadata": {},
   "source": [
    "#### Code : Triangle of Numbers\n",
    "Send Feedback\n",
    "Print the following pattern for the given number of rows.\n",
    "Pattern for N = 4\n",
    "\n",
    "\n",
    "\n",
    "The dots represent spaces.\n",
    "\n",
    "\n",
    "\n",
    "Input format :\n",
    "Integer N (Total no. of rows)\n",
    "Output format :\n",
    "Pattern in N lines\n",
    "Constraints :\n",
    "0 <= N <= 50\n",
    "Sample Input 1:\n",
    "5\n",
    "Sample Output 1:\n",
    "           1\n",
    "         232\n",
    "       34543\n",
    "     4567654\n",
    "   567898765\n",
    "Sample Input 2:\n",
    "4\n",
    "Sample Output 2:\n",
    "           1\n",
    "         232\n",
    "       34543\n",
    "     4567654"
   ]
  },
  {
   "cell_type": "code",
   "execution_count": 35,
   "id": "21b7dcff",
   "metadata": {},
   "outputs": [
    {
     "name": "stdout",
     "output_type": "stream",
     "text": [
      "5\n",
      "    1\n",
      "   232\n",
      "  34543\n",
      " 4567654\n",
      "567898765\n"
     ]
    }
   ],
   "source": [
    "## Read input as specified in the question.\n",
    "## Print output as specified in the question.\n",
    "n=int(input())\n",
    "i = 1\n",
    "while i<=n:\n",
    "    spaces = 1\n",
    "    # spaces\n",
    "    while spaces<=n-i:\n",
    "        print(\" \",end=\"\")\n",
    "        spaces = spaces + 1\n",
    "    p=i\n",
    "    j=1    \n",
    "    while j<=i:\n",
    "            print(p,end=\"\")\n",
    "            j=j+1\n",
    "            p=p+1\n",
    "  \n",
    "    p=2*i-2\n",
    "    while p>=i:\n",
    "        print(p,end=\"\")\n",
    "        p=p-1  \n",
    "    print()\n",
    "    i=i+1"
   ]
  },
  {
   "cell_type": "markdown",
   "id": "0bf0d542",
   "metadata": {},
   "source": [
    "####  Code : Diamond of stars\n",
    "Send Feedback\n",
    "Print the following pattern for the given number of rows.\n",
    "Note: N is always odd.\n",
    "\n",
    "\n",
    "Pattern for N = 5\n",
    "\n",
    "\n",
    "\n",
    "The dots represent spaces.\n",
    "\n",
    "\n",
    "\n",
    "Input format :\n",
    "N (Total no. of rows and can only be odd)\n",
    "Output format :\n",
    "Pattern in N lines\n",
    "Constraints :\n",
    "1 <= N <= 49\n",
    "Sample Input 1:\n",
    "5\n",
    "Sample Output 1:\n",
    "  *\n",
    " ***\n",
    "*****\n",
    " ***\n",
    "  *\n",
    "Sample Input 2:\n",
    "3\n",
    "Sample Output 2:\n",
    "  *\n",
    " ***\n",
    "  *"
   ]
  },
  {
   "cell_type": "code",
   "execution_count": 36,
   "id": "973628d9",
   "metadata": {},
   "outputs": [
    {
     "name": "stdout",
     "output_type": "stream",
     "text": [
      "5\n",
      "  *\n",
      " ***\n",
      "*****\n",
      " ***\n",
      "  *\n"
     ]
    }
   ],
   "source": [
    "## Read input as specified in the question.\n",
    "## Print output as specified in the question.\n",
    "\n",
    "n=int(input())\n",
    "c=(1/2)*n+1/2\n",
    "c1=2*n+1\n",
    "i=1\n",
    "while i<=n:\n",
    "    if (1<=i<=((n+1)/2)):\n",
    "        sp=-i+c\n",
    "        while sp>=1:\n",
    "            print(\" \",end=\"\")\n",
    "            sp=sp-1\n",
    "        st=2*i-1\n",
    "        while st>=1:\n",
    "            print(\"*\",end=\"\")\n",
    "            st=st-1\n",
    "    if ((n+1)/2<i<=n):\n",
    "        sp1=i-c\n",
    "        while sp1>=1:\n",
    "            print(\" \",end=\"\")\n",
    "            sp1=sp1-1\n",
    "        st1=-2*i+c1\n",
    "        while st1>=1:\n",
    "            print(\"*\",end=\"\")\n",
    "            st1=st1-1\n",
    "    print()\n",
    "    i=i+1"
   ]
  },
  {
   "cell_type": "markdown",
   "id": "8c370ac2",
   "metadata": {},
   "source": [
    "#### Number Pattern\n",
    "Send Feedback\n",
    "Print the following pattern for n number of rows.\n",
    "Note: each line consist of equal number of characters + spaces. Suppose you are printing xth line for N=n. You need to print 1..x followed by (n-x) spaces, again (n-x) spaces followed by x..1\n",
    "For eg. N = 5 \n",
    "\n",
    "Sample Input 1 :\n",
    "4\n",
    "Sample Output 1 :\n"
   ]
  },
  {
   "cell_type": "code",
   "execution_count": 37,
   "id": "ade8a4a3",
   "metadata": {},
   "outputs": [
    {
     "name": "stdout",
     "output_type": "stream",
     "text": [
      "5\n",
      "1        1\n",
      "12      21\n",
      "123    321\n",
      "1234  4321\n",
      "1234554321\n"
     ]
    }
   ],
   "source": [
    "n=int(input())\n",
    "c=2*n\n",
    "i=1\n",
    "while i<=n:\n",
    "    n1=1\n",
    "    while n1<=i:\n",
    "        print(n1,end=\"\")\n",
    "        n1=n1+1\n",
    "    sp=-2*i+c\n",
    "    while sp>=1:\n",
    "        print(\" \",end=\"\")\n",
    "        sp=sp-1\n",
    "    n2=i\n",
    "    while n2>=1:\n",
    "        print(n2,end=\"\")\n",
    "        n2=n2-1\n",
    "    print()\n",
    "    i=i+1"
   ]
  },
  {
   "cell_type": "markdown",
   "id": "3029c954",
   "metadata": {},
   "source": [
    "#### Zeros and Stars Pattern\n",
    "Send Feedback\n",
    "Print the following pattern\n",
    "Pattern for N = 4\n",
    "*000*000*\n",
    "0*00*00*0\n",
    "00*0*0*00\n",
    "000***000\n",
    "Input Format :\n",
    "N (Total no. of rows)\n",
    "Output Format :\n",
    "Pattern in N lines\n",
    "Sample Input 1 :\n",
    "3\n",
    "Sample Output 1 :\n",
    "*00*00*\n",
    "0*0*0*0\n",
    "00***00\n",
    "Sample Input 2 :\n",
    "5\n",
    "Sample Output 2 :\n",
    "*0000*0000*\n",
    "0*000*000*0\n",
    "00*00*00*00\n",
    "000*0*0*000\n",
    "0000***0000"
   ]
  },
  {
   "cell_type": "code",
   "execution_count": 38,
   "id": "b679f4c9",
   "metadata": {},
   "outputs": [
    {
     "name": "stdout",
     "output_type": "stream",
     "text": [
      "5\n",
      "*0000*0000*\n",
      "0*000*000*0\n",
      "00*00*00*00\n",
      "000*0*0*000\n",
      "0000***0000\n"
     ]
    }
   ],
   "source": [
    "n = int(input()) #taking input from user.\n",
    "rows = 2*n + 1 #calculating rows.\n",
    "i = 1 #initializing i.\n",
    "\n",
    "while i <= n: #loop for rows.\n",
    "    j = 1 #initializing j.\n",
    "    while j <= rows: #loop for columns.\n",
    "        if(j == i or j == (rows // 2 + 1) or j == rows - i +1): #checking for the condition.\n",
    "            print('*',end = '') #printing *.\n",
    "            \n",
    "        else: #if condition is not satisfied.\n",
    "            print('0',end = '') #printing 0.\n",
    "\n",
    "        j = j + 1 #incrementing j.\n",
    "        \n",
    "    print() #printing new line.\n",
    "    i = i + 1 #incrementing i.\n"
   ]
  },
  {
   "cell_type": "markdown",
   "id": "b3759cc2",
   "metadata": {},
   "source": [
    "#### Pyramid Number Pattern\n",
    "Send Feedback\n",
    "Print the following pattern for the given number of rows.\n",
    "Pattern for N = 4\n",
    "   1\n",
    "  212\n",
    " 32123\n",
    "4321234\n",
    "Input format : N (Total no. of rows)\n",
    "\n",
    "Output format : Pattern in N lines\n",
    "\n",
    "Sample Input :\n",
    "5\n",
    "Sample Output :\n",
    "        1\n",
    "      212\n",
    "    32123\n",
    "  4321234\n",
    "543212345"
   ]
  },
  {
   "cell_type": "code",
   "execution_count": 39,
   "id": "8505bc64",
   "metadata": {},
   "outputs": [
    {
     "name": "stdout",
     "output_type": "stream",
     "text": [
      "5\n",
      "    1\n",
      "   212\n",
      "  32123\n",
      " 4321234\n",
      "543212345\n"
     ]
    }
   ],
   "source": [
    "## Read input as specified in the question.\n",
    "## Print output as specified in the question.\n",
    "n=int(input())\n",
    "c=n\n",
    "i=1\n",
    "while i<=n:\n",
    "    sp=-i+c\n",
    "    while sp>=1:\n",
    "        print(\" \",end=\"\")\n",
    "        sp=sp-1\n",
    "    dn=i\n",
    "    while dn>=1:\n",
    "        print(dn,end=\"\")\n",
    "        dn=dn-1\n",
    "    In=i-1\n",
    "    j=2\n",
    "    while In>=1:\n",
    "        print(j,end=\"\")\n",
    "        In=In-1\n",
    "        j=j+1\n",
    "    print()\n",
    "    i=i+1"
   ]
  },
  {
   "cell_type": "markdown",
   "id": "44d9c020",
   "metadata": {},
   "source": [
    "#### Arrow pattern\n",
    "Send Feedback\n",
    "Print the following pattern for the given number of rows.\n",
    "Assume N is always odd.\n",
    "Note : There is space after every star.\n",
    "Pattern for N = 7\n",
    "*\n",
    " * *\n",
    "   * * *\n",
    "     * * * *\n",
    "   * * *\n",
    " * *\n",
    "*\n",
    "Input format :\n",
    "Integer N (Total no. of rows)\n",
    "Output format :\n",
    "Pattern in N lines\n",
    "Sample Input :\n",
    "11\n",
    "Sample Output :\n",
    "*\n",
    " * *\n",
    "   * * *\n",
    "     * * * *\n",
    "       * * * * *\n",
    "         * * * * * *\n",
    "       * * * * *\n",
    "     * * * *\n",
    "   * * *\n",
    " * *\n",
    "*"
   ]
  },
  {
   "cell_type": "code",
   "execution_count": 40,
   "id": "5031525e",
   "metadata": {},
   "outputs": [
    {
     "name": "stdout",
     "output_type": "stream",
     "text": [
      "5\n",
      "* \n",
      " * * \n",
      "  * * * \n",
      " * * \n",
      "* \n"
     ]
    }
   ],
   "source": [
    "## Read input as specified in the question.\n",
    "## Print output as specified in the question.\n",
    "n= int(input())\n",
    "c1=n\n",
    "c2=n+1\n",
    "i=1\n",
    "while i<=n:\n",
    "    if (1<=i<=((n+1)/2)):\n",
    "        sp=i-1\n",
    "        while sp>=1:\n",
    "            print(\" \",end=\"\")\n",
    "            sp=sp-1\n",
    "        st=i\n",
    "        while st>=1:\n",
    "            print(\"* \",end=\"\")\n",
    "            st=st-1\n",
    "    if ((n+1)/2<i<=n):\n",
    "        sp1=-i+c1\n",
    "        while sp1>=1:\n",
    "            print(\" \",end=\"\")\n",
    "            sp1=sp1-1\n",
    "        st1=-i+c2\n",
    "        while st1>=1:\n",
    "            print(\"* \",end=\"\")\n",
    "            st1=st1-1\n",
    "    print()\n",
    "    i=i+1"
   ]
  },
  {
   "cell_type": "markdown",
   "id": "e69ba93a",
   "metadata": {},
   "source": [
    "# More on Loops"
   ]
  },
  {
   "cell_type": "markdown",
   "id": "a9b65c66",
   "metadata": {},
   "source": [
    "#### Binary Pattern\n",
    "Send Feedback\n",
    "Print the following pattern for the given number of rows.\n",
    "Pattern for N = 4\n",
    "1111\n",
    "000\n",
    "11\n",
    "0\n",
    "Input format : N (Total no. of rows)\n",
    "\n",
    "Output format : Pattern in N lines\n",
    "\n",
    "Sample Input :\n",
    "5\n",
    "Sample Output :\n",
    "11111\n",
    "0000\n",
    "111\n",
    "00\n",
    "1"
   ]
  },
  {
   "cell_type": "code",
   "execution_count": 41,
   "id": "a780f48b",
   "metadata": {},
   "outputs": [
    {
     "name": "stdout",
     "output_type": "stream",
     "text": [
      "5\n",
      "11111\n",
      "0000\n",
      "111\n",
      "00\n",
      "1\n"
     ]
    }
   ],
   "source": [
    "\n",
    "## Read input as specified in the question.\n",
    "## Print output as specified in the question.\n",
    "n= int(input())\n",
    "i=1\n",
    "while i<=n:\n",
    "    # if i==1:\n",
    "        # c=-i+n+1\n",
    "         #j=1\n",
    "         #while j<=n:\n",
    "          #   print(1,end=\"\")\n",
    "           #  j=j+1\n",
    "    if i%2==0:\n",
    "        c1=-i+n+1\n",
    "        j1=1\n",
    "        while j1<=c1:\n",
    "            print(0,end=\"\")\n",
    "            j1=j1+1\n",
    "    if i%2==1:\n",
    "        c2=-i+n+1\n",
    "        j2=1\n",
    "        while j2<=c2:\n",
    "            print(1,end=\"\")\n",
    "            j2=j2+1\n",
    "    print()\n",
    "    i=i+1   "
   ]
  },
  {
   "cell_type": "markdown",
   "id": "f45ca163",
   "metadata": {},
   "source": [
    "#### Print Number Pyramid\n",
    "Send Feedback\n",
    "Print the following pattern for a given n.\n",
    "For eg. N = 6\n",
    "123456\n",
    "  23456\n",
    "    3456\n",
    "      456\n",
    "        56\n",
    "          6\n",
    "        56\n",
    "      456\n",
    "    3456\n",
    "  23456\n",
    "123456\n",
    "Sample Input 1 :\n",
    "4\n",
    "Sample Output 1 :\n",
    "1234\n",
    "  234\n",
    "    34\n",
    "      4\n",
    "    34\n",
    "  234\n",
    "1234"
   ]
  },
  {
   "cell_type": "code",
   "execution_count": 42,
   "id": "0fd9d0c2",
   "metadata": {},
   "outputs": [
    {
     "name": "stdout",
     "output_type": "stream",
     "text": [
      "5\n",
      "12345\n",
      " 2345\n",
      "  345\n",
      "   45\n",
      "    5\n",
      "   45\n",
      "  345\n",
      " 2345\n",
      "12345\n"
     ]
    }
   ],
   "source": [
    "n= int(input())\n",
    "i=1\n",
    "while i<=(2*n-1):\n",
    "    if (1<=i<=n):# for upper part\n",
    "        sp=i-1 # how many number need to print space  \n",
    "        while sp>=1: # for printing space\n",
    "            print(\" \",end=\"\")\n",
    "            sp=sp-1\n",
    "        num=-i+(n+1) # how many number need to print number \n",
    "        j=1\n",
    "        p=i # what to print\n",
    "        while j<=num: # for printing numbers\n",
    "            print(p,end=\"\")\n",
    "            j=j+1\n",
    "            p=p+1\n",
    "    if (n<i<=(2*n-1)): # for lower part \n",
    "        sp1 =-i+(2*n-1)# how many number need to print space\n",
    "        j1=1\n",
    "        while j1<=sp1: # for printing space\n",
    "            print(\" \",end=\"\")\n",
    "            j1=j1+1\n",
    "        num1=i-(n-1) # how many number need to print number \n",
    "        j2=1 \n",
    "        pr=-i+2*n # what to print\n",
    "        while j2<=num1: # for printing numbers\n",
    "            \n",
    "            print(pr,end=\"\")\n",
    "            j2=j2+1\n",
    "            pr=pr+1\n",
    "    print()\n",
    "    i=i+1"
   ]
  },
  {
   "cell_type": "markdown",
   "id": "d23db19a",
   "metadata": {},
   "source": [
    "#### Diamond of Stars\n",
    "Send Feedback\n",
    "Print the following pattern for the given number of rows.\n",
    "Note: N is always odd.\n",
    "\n",
    "\n",
    "Pattern for N = 5\n",
    "\n",
    "\n",
    "\n",
    "The dots represent spaces.\n",
    "\n",
    "\n",
    "\n",
    "Input format :\n",
    "N (Total no. of rows and can only be odd)\n",
    "Output format :\n",
    "Pattern in N lines\n",
    "Constraints :\n",
    "1 <= N <= 49\n",
    "Sample Input 1:\n",
    "5\n",
    "Sample Output 1:\n",
    "  *\n",
    " ***\n",
    "*****\n",
    " ***\n",
    "  *\n",
    "Sample Input 2:\n",
    "3\n",
    "Sample Output 2:\n",
    "  *\n",
    " ***\n",
    "  *"
   ]
  },
  {
   "cell_type": "code",
   "execution_count": 43,
   "id": "82d6d972",
   "metadata": {},
   "outputs": [
    {
     "name": "stdout",
     "output_type": "stream",
     "text": [
      "5\n",
      "  *\n",
      " ***\n",
      "*****\n",
      " ***\n",
      "  *\n"
     ]
    }
   ],
   "source": [
    "n=int(input())\n",
    "c=(1/2)*n+1/2\n",
    "c1=2*n+1\n",
    "i=1\n",
    "while i<=n:\n",
    "    if (1<=i<=((n+1)/2)):\n",
    "        sp=-i+c\n",
    "        while sp>=1:\n",
    "            print(\" \",end=\"\")\n",
    "            sp=sp-1\n",
    "        st=2*i-1\n",
    "        while st>=1:\n",
    "            print(\"*\",end=\"\")\n",
    "            st=st-1\n",
    "    if ((n+1)/2<i<=n):\n",
    "        sp1=i-c\n",
    "        while sp1>=1:\n",
    "            print(\" \",end=\"\")\n",
    "            sp1=sp1-1\n",
    "        st1=-2*i+c1\n",
    "        while st1>=1:\n",
    "            print(\"*\",end=\"\")\n",
    "            st1=st1-1\n",
    "    print()\n",
    "    i=i+1"
   ]
  },
  {
   "cell_type": "markdown",
   "id": "d5600a71",
   "metadata": {},
   "source": [
    "#### Rectangular numbers\n",
    "Send Feedback\n",
    "Print the following pattern for the given number of rows.\n",
    "Pattern for N = 4\n",
    "4444444\n",
    "4333334\n",
    "4322234\n",
    "4321234\n",
    "4322234\n",
    "4333334  \n",
    "4444444\n",
    "Input format : N (Total no. of rows)\n",
    "\n",
    "Output format : Pattern in N lines\n",
    "\n",
    "Sample Input :\n",
    "3\n",
    "Sample Output :\n",
    "33333\n",
    "32223\n",
    "32123\n",
    "32223\n",
    "33333"
   ]
  },
  {
   "cell_type": "code",
   "execution_count": 44,
   "id": "cd5001f8",
   "metadata": {},
   "outputs": [
    {
     "name": "stdout",
     "output_type": "stream",
     "text": [
      "5\n",
      "555555555\n",
      "544444445\n",
      "543333345\n",
      "543222345\n",
      "543212345\n",
      "543222345\n",
      "543333345\n",
      "544444445\n",
      "555555555\n"
     ]
    }
   ],
   "source": [
    "## Print output as specified in the question.\n",
    "n=int(input())\n",
    "i=1\n",
    "while i<=2*n-1:\n",
    "     if(1<=i<=n):\n",
    "            j=1\n",
    "            n1=i\n",
    "            p=n\n",
    "            while j<=n1:\n",
    "                print(p,end=\"\")\n",
    "                p=p-1\n",
    "                j=j+1\n",
    "            j2=1\n",
    "            n2=-2*i+2*n-1\n",
    "            p=-i+(n+1)\n",
    "            while j2<=n2:\n",
    "                print(p,end=\"\")\n",
    "                j2=j2+1\n",
    "            j3=1\n",
    "            o=n\n",
    "            n3=i\n",
    "            p=-i+(n+1)\n",
    "            while j3<=n3:\n",
    "                if p==1:\n",
    "                    p=p+1\n",
    "                    continue\n",
    "                if p==o+1:\n",
    "                    break\n",
    "\n",
    "                print(p,end=\"\")\n",
    "\n",
    "                p=p+1\n",
    "                j3=j3+1\n",
    "            \n",
    "     if(n<i<=(2*n-1)):\n",
    "            \n",
    "                n3=-i+2*n\n",
    "                j=1\n",
    "                p=n\n",
    "                while j<=n3:\n",
    "                    print(p,end=\"\")\n",
    "                    p=p-1\n",
    "                    j=j+1\n",
    "\n",
    "                n4=2*i-(2*n+1)\n",
    "                p=i-(n-1)\n",
    "                j=1\n",
    "                while j<=n4:\n",
    "                    print(p,end=\"\")\n",
    "                    j=j+1\n",
    "\n",
    "                n5=-i+2*n\n",
    "                j=1\n",
    "                p=i-(n-1)\n",
    "                while j<=n5:\n",
    "                    print(p,end=\"\")\n",
    "                    j=j+1\n",
    "                    p=p+1\n",
    "     print()\n",
    "     i=i+1\n"
   ]
  },
  {
   "cell_type": "markdown",
   "id": "64d7f205",
   "metadata": {},
   "source": [
    "#### Print the pattern\n",
    "Send Feedback\n",
    "Print the following pattern for the given number of rows.\n",
    "Pattern for N = 5\n",
    " 1    2   3    4   5\n",
    " 11   12  13   14  15\n",
    " 21   22  23   24  25\n",
    " 16   17  18   19  20\n",
    " 6    7    8   9   10\n",
    "Input format : N (Total no. of rows)\n",
    "\n",
    "Output format : Pattern in N lines\n",
    "\n",
    "Sample Input :\n",
    "4\n",
    "Sample Output :\n",
    " 1  2  3  4\n",
    " 9 10 11 12\n",
    "13 14 15 16\n",
    " 5  6  7  8"
   ]
  },
  {
   "cell_type": "code",
   "execution_count": 55,
   "id": "470fb30f",
   "metadata": {},
   "outputs": [
    {
     "name": "stdout",
     "output_type": "stream",
     "text": [
      "5\n",
      "12345\n",
      "1112131415\n",
      "2122232425\n",
      "1617181920\n",
      "678910\n"
     ]
    }
   ],
   "source": [
    "n = int(input())\n",
    "startvalue=1\n",
    "for i in range(1,n+1):\n",
    "    for j in range(startvalue,startvalue+n):\n",
    "        print(j,end=\"\")\n",
    "    print() \n",
    "    if(i==((n+1)//2)):\n",
    "        if((n%2)!=0):\n",
    "            startvalue=n*(n-2)+1\n",
    "        else:\n",
    "            startvalue =n*(n-1)+1\n",
    "    elif((i>(n+1)//2)):\n",
    "        startvalue=startvalue-2*n\n",
    "    else:\n",
    "         startvalue=startvalue+2*n"
   ]
  },
  {
   "cell_type": "markdown",
   "id": "7e77b7a5",
   "metadata": {},
   "source": [
    "# Functions"
   ]
  },
  {
   "cell_type": "markdown",
   "id": "547527d2",
   "metadata": {},
   "source": [
    "#### Fahrenheit to Celsius Function\n",
    "Send Feedback\n",
    "Given three values - Start Fahrenheit Value (S), End Fahrenheit value (E) and Step Size (W), you need to convert all Fahrenheit values from Start to End at the gap of W, into their corresponding Celsius values and print the table.\n",
    "Input Format :\n",
    "3 integers - S, E and W respectively\n",
    "Output Format :\n",
    "Fahrenheit to Celsius conversion table. One line for every Fahrenheit and Celsius Fahrenheit value. Fahrenheit value and its corresponding Celsius value should be separate by tab (\"\\t\")\n",
    "Constraints :\n",
    "0 <= S <= 1000\n",
    "0 <= E <= 1000\n",
    "0 <= W <= 1000\n",
    "Sample Input 1:\n",
    "0 \n",
    "100 \n",
    "20\n",
    "Sample Output 1:\n",
    "0   -17\n",
    "20  -6\n",
    "40  4\n",
    "60  15\n",
    "80  26\n",
    "100 37\n",
    "Sample Input 2:\n",
    "120 \n",
    "200 \n",
    "40\n",
    "Sample Output 2:\n",
    "120 48\n",
    "160 71\n",
    "200 93\n",
    "Explanation for Sample Output 2 :\n",
    "Start value is 120, end value is 200 and step size is 40. Therefore, the values we need to convert are 120, 120 + 40 = 160, and 160 + 40 = 200. \n",
    "The formula for converting Fahrenheit to Celsius is:\n",
    "Celsius Value = (5/9)*(Fahrenheit Value - 32)  \n",
    "Plugging 120 into the formula, the celsius value will be (5 / 9)*(120 - 32) => (5 / 9) * 88 => (5 * 88) / 9 => 440 / 9 => 48.88\n",
    "But we'll only print 48 because we are only interested in the integral part of the value."
   ]
  },
  {
   "cell_type": "code",
   "execution_count": 45,
   "id": "f7a86894",
   "metadata": {},
   "outputs": [
    {
     "name": "stdout",
     "output_type": "stream",
     "text": [
      "5\n",
      "6\n",
      "3\n",
      "5 -15\n"
     ]
    }
   ],
   "source": [
    "def fToC(n):\n",
    "    c=5/9*(n-32)\n",
    "    return int(c)\n",
    "def printTabale(s,e,p):\n",
    "   \n",
    "    for i in range(s,e+1,p):\n",
    "        x=fToC(i)\n",
    "        print(i,int(x))\n",
    "s=int(input())\n",
    "e=int(input())\n",
    "p=int(input())        \n",
    "printTabale(s,e,p)  \n",
    "\n"
   ]
  },
  {
   "cell_type": "markdown",
   "id": "8baf44f0",
   "metadata": {},
   "source": [
    "#### Fibonacci Member\n",
    "Send Feedback\n",
    "Given a number N, figure out if it is a member of fibonacci series or not. Return true if the number is member of fibonacci series else false.\n",
    "Fibonacci Series is defined by the recurrence\n",
    "    F(n) = F(n-1) + F(n-2)\n",
    "where F(0) = 0 and F(1) = 1\n",
    "\n",
    "\n",
    "Input Format :\n",
    "Integer N\n",
    "Output Format :\n",
    "true or false\n",
    "Constraints :\n",
    "0 <= n <= 10^4\n",
    "Sample Input 1 :\n",
    "5\n",
    "Sample Output 1 :\n",
    "true\n",
    "Sample Input 2 :\n",
    "14\n",
    "Sample Output 2 :\n",
    "false    "
   ]
  },
  {
   "cell_type": "code",
   "execution_count": 46,
   "id": "1ccfcf6d",
   "metadata": {},
   "outputs": [
    {
     "name": "stdout",
     "output_type": "stream",
     "text": [
      "5\n",
      "true\n"
     ]
    }
   ],
   "source": [
    "def fa(n):   \n",
    "   \n",
    "\n",
    "    i =1\n",
    "    f_0=0\n",
    "    f_1=1\n",
    "    f_n_2=f_0\n",
    "    f_n_1=f_1\n",
    "\n",
    "    while i<=n+1:\n",
    "            f_n = f_n_1 +f_n_2\n",
    "\n",
    "\n",
    "\n",
    "\n",
    "\n",
    "\n",
    "            f_n_2=f_n_1\n",
    "            f_n_1=f_n\n",
    "            i=i+1\n",
    "            m=f_n\n",
    "            if(m==n):\n",
    "                \n",
    "                return True\n",
    "                break\n",
    "            if(m>n):\n",
    "                \n",
    "                return False\n",
    "                break\n",
    "\n",
    "\n",
    "n=int(input())\n",
    "x=fa(n)\n",
    "\n",
    "if x:\n",
    "    print(\"true\")\n",
    "else:\n",
    "    print(\"false\")"
   ]
  },
  {
   "cell_type": "markdown",
   "id": "d0647c43",
   "metadata": {},
   "source": [
    "#### Palindrome number\n",
    "Send Feedback\n",
    "Write a program to determine if given number is palindrome or not. Print true if it is palindrome, false otherwise.\n",
    "Palindrome are the numbers for which reverse is exactly same as the original one. For eg. 121\n",
    "Sample Input 1 :\n",
    "121\n",
    "Sample Output 1 :\n",
    "true\n",
    "Sample Input 2 :\n",
    "1032\n",
    "Sample Output 2 :\n",
    "false"
   ]
  },
  {
   "cell_type": "code",
   "execution_count": 47,
   "id": "553d1987",
   "metadata": {},
   "outputs": [
    {
     "name": "stdout",
     "output_type": "stream",
     "text": [
      "121\n",
      "true\n"
     ]
    }
   ],
   "source": [
    "def pal(num):\n",
    "  \n",
    "    k=num\n",
    "    reve = 0\n",
    "    while num!=0:# loop for every number in num .\n",
    "        r=num%10 # Extracion the digit from the num one by one.\n",
    "        reve=reve*10+r # Increment the revers number, by one by one digit.\n",
    "        num=num//10 # Decrement the num \n",
    "    if (k==reve):\n",
    "        return True\n",
    "    return False\n",
    "n=int(input())\n",
    "j=pal(n)\n",
    "if j:\n",
    "    print(\"true\")\n",
    "else:\n",
    "    print(\"false\")"
   ]
  },
  {
   "cell_type": "markdown",
   "id": "f5c64bb0",
   "metadata": {},
   "source": [
    "#### Check Armstrong\n",
    "Send Feedback\n",
    "Write a Program to determine if the given number is Armstrong number or not. Print true if number is armstrong, otherwise print false.\n",
    "An Armstrong number is a number (with digits n) such that the sum of its digits raised to nth power is equal to the number itself.\n",
    "For example,\n",
    "371, as 3^3 + 7^3 + 1^3 = 371\n",
    "1634, as 1^4 + 6^4 + 3^4 + 4^4 = 1634\n",
    "Input Format :\n",
    "Integer n\n",
    "Output Format :\n",
    "true or false\n",
    "Sample Input 1 :\n",
    "1\n",
    "Sample Output 1 :\n",
    "true\n",
    "Sample Input 2 :\n",
    "103\n",
    "Sample Output 2 :\n",
    "false"
   ]
  },
  {
   "cell_type": "code",
   "execution_count": 49,
   "id": "90ed8da2",
   "metadata": {},
   "outputs": [
    {
     "name": "stdout",
     "output_type": "stream",
     "text": [
      "371\n",
      "true\n"
     ]
    }
   ],
   "source": [
    "def dig(n):\n",
    "   \n",
    "    i=0\n",
    "    while n!=0:\n",
    "        i=i+1\n",
    "        n=n//10\n",
    "    return i    \n",
    "def sum(n):\n",
    "    j=dig(n)\n",
    "    sum=0\n",
    "    while n!=0:\n",
    "        r=n%10\n",
    "        p=r**j\n",
    "        sum=sum+p\n",
    "        n=n//10\n",
    "    return sum   \n",
    "n = int(input())\n",
    "p=sum(n)\n",
    "if (n==p):\n",
    "    print (\"true\")\n",
    "else:\n",
    "    print(\"false\")    "
   ]
  },
  {
   "cell_type": "markdown",
   "id": "b540cb2f",
   "metadata": {},
   "source": [
    "# Test 1"
   ]
  },
  {
   "cell_type": "markdown",
   "id": "198d4488",
   "metadata": {},
   "source": [
    "#### Number Star pattern 1\n",
    "Send Feedback\n",
    "Print the following pattern for given number of rows.\n",
    "Input format :\n",
    "Integer N (Total number of rows)\n",
    "Output Format :\n",
    "Pattern in N lines\n",
    "Sample Input :\n",
    "   5\n",
    "Sample Output :\n",
    " 5432*\n",
    " 543*1\n",
    " 54*21\n",
    " 5*321\n",
    " *4321"
   ]
  },
  {
   "cell_type": "code",
   "execution_count": 50,
   "id": "8ff2441f",
   "metadata": {},
   "outputs": [
    {
     "name": "stdout",
     "output_type": "stream",
     "text": [
      "5\n",
      "5432*\n",
      "543*1\n",
      "54*21\n",
      "5*321\n",
      "*4321\n"
     ]
    }
   ],
   "source": [
    "n= int(input())\n",
    "\n",
    "i=1\n",
    "p=i\n",
    "while i<=n:\n",
    "    j=1\n",
    "    o=-i+(n+1)\n",
    "    k=n\n",
    "    while j<=n:\n",
    "        if(j==o):\n",
    "            print(\"*\",end=\"\")\n",
    "        else:\n",
    "            print(k,end=\"\")\n",
    "        k=k-1\n",
    "        j=j+1\n",
    "        \n",
    "    print()\n",
    "    i=i+1"
   ]
  },
  {
   "cell_type": "markdown",
   "id": "1174be4b",
   "metadata": {},
   "source": [
    "#### Zeros and Stars Pattern\n",
    "Send Feedback\n",
    "Print the following pattern\n",
    "Pattern for N = 4\n",
    "*000*000*\n",
    "0*00*00*0\n",
    "00*0*0*00\n",
    "000***000\n",
    "Input Format :\n",
    "N (Total no. of rows)\n",
    "Output Format :\n",
    "Pattern in N lines\n",
    "Sample Input 1 :\n",
    "3\n",
    "Sample Output 1 :\n",
    "*00*00*\n",
    "0*0*0*0\n",
    "00***00\n",
    "Sample Input 2 :\n",
    "5\n",
    "Sample Output 2 :\n",
    "*0000*0000*\n",
    "0*000*000*0\n",
    "00*00*00*00\n",
    "000*0*0*000\n",
    "0000***0000"
   ]
  },
  {
   "cell_type": "code",
   "execution_count": 51,
   "id": "c605bd59",
   "metadata": {},
   "outputs": [
    {
     "name": "stdout",
     "output_type": "stream",
     "text": [
      "5\n",
      "*0000*0000*\n",
      "0*000*000*0\n",
      "00*00*00*00\n",
      "000*0*0*000\n",
      "0000***0000\n"
     ]
    }
   ],
   "source": [
    "n= int(input())\n",
    "i=1\n",
    "k= (2*n+1)\n",
    "\n",
    "while i <=n:\n",
    "    j=1\n",
    "    l=-i+(2*n+2)\n",
    "    while j<=k:\n",
    "        if (j==i or j==(k+1)//2 or j==l ):\n",
    "            print(\"*\",end=\"\")\n",
    "        else:\n",
    "            print(0,end=\"\")\n",
    "        j=j+1\n",
    "    print()\n",
    "    i=i+1"
   ]
  },
  {
   "cell_type": "markdown",
   "id": "44700594",
   "metadata": {},
   "source": [
    "#### Check Armstrong\n",
    "Send Feedback\n",
    "Write a Program to determine if the given number is Armstrong number or not. Print true if number is armstrong, otherwise print false.\n",
    "An Armstrong number is a number (with digits n) such that the sum of its digits raised to nth power is equal to the number itself.\n",
    "For example,\n",
    "371, as 3^3 + 7^3 + 1^3 = 371\n",
    "1634, as 1^4 + 6^4 + 3^4 + 4^4 = 1634\n",
    "Input Format :\n",
    "Integer n\n",
    "Output Format :\n",
    "true or false\n",
    "Sample Input 1 :\n",
    "1\n",
    "Sample Output 1 :\n",
    "true\n",
    "Sample Input 2 :\n",
    "103\n",
    "Sample Output 2 :\n",
    "false"
   ]
  },
  {
   "cell_type": "code",
   "execution_count": 53,
   "id": "1211ab49",
   "metadata": {},
   "outputs": [
    {
     "name": "stdout",
     "output_type": "stream",
     "text": [
      "371\n",
      "true\n"
     ]
    }
   ],
   "source": [
    "def dig(n):\n",
    "   \n",
    "    i=0\n",
    "    while n!=0:\n",
    "        i=i+1\n",
    "        n=n//10\n",
    "    return i    \n",
    "def sum(n):\n",
    "    j=dig(n)\n",
    "    sum=0\n",
    "    while n!=0:\n",
    "        r=n%10\n",
    "        p=r**j\n",
    "        sum=sum+p\n",
    "        n=n//10\n",
    "    return sum   \n",
    "n = int(input())\n",
    "p=sum(n)\n",
    "if (n==p):\n",
    "    print (\"true\")\n",
    "else:\n",
    "    print(\"false\")     "
   ]
  },
  {
   "cell_type": "code",
   "execution_count": null,
   "id": "548a76ed",
   "metadata": {},
   "outputs": [],
   "source": []
  }
 ],
 "metadata": {
  "kernelspec": {
   "display_name": "Python 3 (ipykernel)",
   "language": "python",
   "name": "python3"
  },
  "language_info": {
   "codemirror_mode": {
    "name": "ipython",
    "version": 3
   },
   "file_extension": ".py",
   "mimetype": "text/x-python",
   "name": "python",
   "nbconvert_exporter": "python",
   "pygments_lexer": "ipython3",
   "version": "3.9.13"
  }
 },
 "nbformat": 4,
 "nbformat_minor": 5
}
